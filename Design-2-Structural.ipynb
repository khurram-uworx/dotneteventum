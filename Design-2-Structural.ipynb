{
 "cells": [
  {
   "cell_type": "markdown",
   "metadata": {},
   "source": [
    "# Adapter"
   ]
  },
  {
   "cell_type": "markdown",
   "metadata": {},
   "source": [
    "https://en.wikipedia.org/wiki/Adapter_pattern\n",
    "\n",
    "<img src=\"images/2a-adapter.png\">"
   ]
  },
  {
   "cell_type": "code",
   "execution_count": null,
   "metadata": {
    "dotnet_interactive": {
     "language": "csharp"
    },
    "polyglot_notebook": {
     "kernelName": "csharp"
    }
   },
   "outputs": [],
   "source": [
    "class Target\n",
    "{\n",
    "    public virtual void Request() => Console.WriteLine(\"Called Target Request()\");\n",
    "}\n",
    "\n",
    "class Adapter : Target\n",
    "{\n",
    "    Adaptee adaptee = new Adaptee();\n",
    "    \n",
    "    public override void Request()\n",
    "    {\n",
    "        // some other work?\n",
    "        adaptee.SpecificRequest();  // some existing work\n",
    "        // some more work?\n",
    "    }\n",
    "}\n",
    "\n",
    "class Adaptee\n",
    "{\n",
    "    public void SpecificRequest() => Console.WriteLine(\"Called SpecificRequest()\");\n",
    "}"
   ]
  },
  {
   "cell_type": "code",
   "execution_count": null,
   "metadata": {
    "dotnet_interactive": {
     "language": "csharp"
    },
    "polyglot_notebook": {
     "kernelName": "csharp"
    }
   },
   "outputs": [],
   "source": [
    "#r \"System.Data\"\n",
    "\n",
    "using System.Data;\n",
    "using System.Data.Common;\n",
    "using System.Data.SqlClient;\n",
    "\n",
    "var connectionString = @\"Server=.;Database=AppAvailPackager;Trusted_Connection=true;\";\n",
    "var sql = \"select * from config.BackendSettings\";\n",
    "var dataset = new DataSet();\n",
    "\n",
    "using (var connection = new SqlConnection(connectionString))\n",
    "{\n",
    "    var adapter = new SqlDataAdapter();\n",
    "    adapter.SelectCommand = new SqlCommand(sql, connection);\n",
    "    adapter.Fill(dataset); //we also have few more like Update\n",
    "    return dataset;\n",
    "}"
   ]
  },
  {
   "cell_type": "markdown",
   "metadata": {},
   "source": [
    "# Composite"
   ]
  },
  {
   "cell_type": "markdown",
   "metadata": {},
   "source": [
    "https://en.wikipedia.org/wiki/Factory_method_pattern\n",
    "\n",
    "<img src=\"images/2b-composite.png\">\n",
    "\n",
    "Windows Forms\n",
    "\n",
    "XAML / Front-end Components"
   ]
  },
  {
   "cell_type": "code",
   "execution_count": null,
   "metadata": {
    "dotnet_interactive": {
     "language": "csharp"
    },
    "polyglot_notebook": {
     "kernelName": "csharp"
    }
   },
   "outputs": [],
   "source": [
    "abstract class Component\n",
    "{\n",
    "    protected string name;\n",
    "    \n",
    "    \n",
    "    public Component(string name) => this.name = name;\n",
    "    public abstract void Add(Component c);\n",
    "    public abstract void Remove(Component c);\n",
    "    public abstract void Display(int depth);\n",
    "}\n",
    "\n",
    "class Composite : Component\n",
    "{\n",
    "    List<Component> children = new List<Component>();\n",
    "    public Composite(string name) : base(name) {}\n",
    "\n",
    "    public override void Add(Component component) => children.Add(component);\n",
    "    public override void Remove(Component component) => children.Remove(component);\n",
    "\n",
    "    public override void Display(int depth)\n",
    "    {\n",
    "        Console.WriteLine(new String('-', depth) + name);\n",
    "        \n",
    "        foreach (Component component in children) // or use visitor?\n",
    "            component.Display(depth + 2);\n",
    "    }\n",
    "}\n",
    "\n",
    "class Leaf : Component\n",
    "{\n",
    "    public Leaf(string name) : base(name) {}\n",
    "    \n",
    "    public override void Add(Component c) => Console.WriteLine(\"Cannot add to a leaf\");\n",
    "    public override void Remove(Component c) => Console.WriteLine(\"Cannot remove from a leaf\");\n",
    "    \n",
    "    public override void Display(int depth)\n",
    "    {\n",
    "        Console.WriteLine(new String('-', depth) + name);\n",
    "    }\n",
    "}"
   ]
  },
  {
   "cell_type": "code",
   "execution_count": null,
   "metadata": {
    "dotnet_interactive": {
     "language": "csharp"
    },
    "polyglot_notebook": {
     "kernelName": "csharp"
    }
   },
   "outputs": [],
   "source": [
    "var root = new Composite(\"root\");\n",
    "root.Add(new Leaf(\"Leaf A\"));\n",
    "root.Add(new Leaf(\"Leaf B\"));\n",
    "\n",
    "var comp = new Composite(\"Composite X\");\n",
    "comp.Add(new Leaf(\"Leaf XA\"));\n",
    "comp.Add(new Leaf(\"Leaf XB\"));\n",
    "root.Add(comp);\n",
    "root.Add(new Leaf(\"Leaf C\"));\n",
    "\n",
    "// Add and remove a leaf\n",
    "var leaf = new Leaf(\"Leaf D\");\n",
    "root.Add(leaf);\n",
    "root.Remove(leaf);\n",
    "\n",
    "root.Display(1);"
   ]
  },
  {
   "cell_type": "markdown",
   "metadata": {},
   "source": [
    "# Facade"
   ]
  },
  {
   "cell_type": "markdown",
   "metadata": {},
   "source": [
    "https://en.wikipedia.org/wiki/Facade_pattern\n",
    "\n",
    "<img src=\"images/2c-facade.png\">"
   ]
  },
  {
   "cell_type": "code",
   "execution_count": null,
   "metadata": {
    "dotnet_interactive": {
     "language": "csharp"
    },
    "polyglot_notebook": {
     "kernelName": "csharp"
    }
   },
   "outputs": [],
   "source": [
    "class ZipSystem\n",
    "{\n",
    "    public string Initialize() => \"Zip: Ready\";\n",
    "    public string Operation() => \"Zip: Operation\";\n",
    "}\n",
    "\n",
    "class System1\n",
    "{\n",
    "    public string Initialize() => \"System 1: Ready\";\n",
    "    public string Operation() => \"System 1: Operation\";\n",
    "}\n",
    "\n",
    "class System2\n",
    "{\n",
    "    public string Initialize() => \"System 2: Ready\";\n",
    "    public string Operation() => \"System 2: Operation\";\n",
    "}\n",
    "\n",
    "class Facade\n",
    "{\n",
    "    ZipSystem zip;\n",
    "    System1 system;\n",
    "\n",
    "    public Facade(ZipSystem zip, System1 system)\n",
    "    {\n",
    "        this.zip = zip;\n",
    "        this.system = system;\n",
    "    }\n",
    "\n",
    "    public void Operation()\n",
    "    {\n",
    "        Console.WriteLine(this.zip.Initialize());\n",
    "        Console.WriteLine(this.system.Initialize());\n",
    "\n",
    "        Console.WriteLine(\"Doing something else\");\n",
    "\n",
    "        Console.WriteLine(this.zip.Operation());\n",
    "        Console.WriteLine(this.system.Operation());\n",
    "    }\n",
    "}\n",
    "\n",
    "var f = new Facade(new ZipSystem(), new System1());\n",
    "f.Operation();"
   ]
  }
 ],
 "metadata": {
  "kernelspec": {
   "display_name": ".NET (C#)",
   "language": "C#",
   "name": ".net-csharp"
  },
  "language_info": {
   "name": "polyglot-notebook"
  },
  "polyglot_notebook": {
   "kernelInfo": {
    "defaultKernelName": "csharp",
    "items": [
     {
      "aliases": [],
      "languageName": "csharp",
      "name": "csharp"
     }
    ]
   }
  }
 },
 "nbformat": 4,
 "nbformat_minor": 2
}
