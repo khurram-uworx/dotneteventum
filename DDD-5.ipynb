{
 "cells": [
  {
   "cell_type": "markdown",
   "metadata": {},
   "source": [
    "# 📨 Messaging Systems"
   ]
  },
  {
   "cell_type": "markdown",
   "metadata": {},
   "source": [
    "<img src=images/lego-pieces-basic.jpg>"
   ]
  },
  {
   "cell_type": "markdown",
   "metadata": {},
   "source": [
    "## 📨 Traditional Systems"
   ]
  },
  {
   "cell_type": "markdown",
   "metadata": {},
   "source": [
    "- JMS / MSMQ\n",
    "- Queues in Databases"
   ]
  },
  {
   "cell_type": "markdown",
   "metadata": {},
   "source": [
    "## ⚡ Redis & Message Brokers"
   ]
  },
  {
   "cell_type": "markdown",
   "metadata": {},
   "source": [
    "- Redis\n",
    "- Message Brokers\n",
    "    - RabbitMQ\n",
    "    - Kafka\n",
    "    - MQTT"
   ]
  },
  {
   "cell_type": "markdown",
   "metadata": {},
   "source": [
    "docker run -d --name my-redis -p 6379:6379 redis"
   ]
  },
  {
   "cell_type": "code",
   "execution_count": null,
   "metadata": {
    "polyglot_notebook": {
     "kernelName": "csharp"
    }
   },
   "outputs": [],
   "source": [
    "#r \"nuget: StackExchange.Redis\""
   ]
  },
  {
   "cell_type": "code",
   "execution_count": null,
   "metadata": {
    "polyglot_notebook": {
     "kernelName": "csharp"
    }
   },
   "outputs": [],
   "source": [
    "using StackExchange.Redis;\n",
    "\n",
    "var redis = await ConnectionMultiplexer.ConnectAsync(\"localhost\");\n",
    "var pubsub = redis.GetSubscriber();\n",
    "\n",
    "pubsub.Subscribe(RedisChannel.Literal(\"mychannel\"), (channel, message) =>\n",
    "{\n",
    "    Console.WriteLine($\"Received: {message} from {channel}\");\n",
    "});\n",
    "await pubsub.PublishAsync(RedisChannel.Literal(\"mychannel\"), \"Hello, Redis!\");\n",
    "\n",
    "Thread.Sleep(5000);"
   ]
  },
  {
   "cell_type": "markdown",
   "metadata": {},
   "source": [
    "- If no one is subscribed when a message is published, the message is lost\n",
    "- If subscribers are active, they receive the message instantly\n",
    "- If a subscriber joins later, they will not receive past messages\n",
    "\n",
    "If you need message persistence or delivery to late subscribers, use Redis Streams or a message queue system like __RabbitMQ__ or __Kafka__"
   ]
  },
  {
   "cell_type": "markdown",
   "metadata": {},
   "source": [
    "__Abstraction Layer__\n",
    "- MassTransit; https://masstransit.io\n",
    "- Wolverine; https://wolverinefx.net"
   ]
  },
  {
   "cell_type": "markdown",
   "metadata": {},
   "source": [
    "# 💡 Designing for Change"
   ]
  },
  {
   "cell_type": "markdown",
   "metadata": {},
   "source": [
    "## 💡Idiomatic Coding"
   ]
  },
  {
   "cell_type": "markdown",
   "metadata": {},
   "source": [
    "The essence of famous book \"Clean Code: A Handbook of Agile Software Craftsmanship by Robert C. Martin\"\n",
    "- Code is read far more often than it is written—so write it to be readable, maintainable, and expressive"
   ]
  },
  {
   "cell_type": "code",
   "execution_count": null,
   "metadata": {
    "polyglot_notebook": {
     "kernelName": "csharp"
    }
   },
   "outputs": [],
   "source": [
    "var person = new {};\n",
    "\n",
    "if (person == null)\n",
    "    Console.WriteLine(\"Person is null\");\n",
    "\n",
    "if (person is null)\n",
    "    Console.WriteLine(\"Person is null\");"
   ]
  },
  {
   "cell_type": "code",
   "execution_count": null,
   "metadata": {
    "polyglot_notebook": {
     "kernelName": "csharp"
    }
   },
   "outputs": [],
   "source": [
    "if (person != null && person.Address != null && person.Address.City != null)\n",
    "    Console.WriteLine(person.Address.City);\n",
    "\n",
    "if (person is { Address.City: not null } cityHolder)\n",
    " Console.WriteLine(cityHolder.Address.City);"
   ]
  },
  {
   "cell_type": "markdown",
   "metadata": {},
   "source": [
    "## 💡 The real cost of software isn't building it. It's changing it"
   ]
  },
  {
   "cell_type": "markdown",
   "metadata": {},
   "source": [
    "- Software should be easy to change, not just work\n",
    "\n",
    "The essence of famous book \"Refactoring: Improving the Design of Existing Code Edition Unstated by Martin Fowler\"\n",
    "- Design software to embrace change, and use refactoring as the continual process that keeps the code aligned with evolving needs without sacrificing clarity or correctness\n",
    "\n",
    "__The Career__\n",
    "- I am able to write code that works\n",
    "- I am able to write good enough code that can go in product\n",
    "- I am able to show my code is correct and is good enough that can go in product\n",
    "- I am able to write a code that's easy to change, not just work"
   ]
  },
  {
   "cell_type": "markdown",
   "metadata": {},
   "source": [
    "__Code Isn’t Just for Machines — It’s for People__\n",
    "\n",
    "- Machines don't care about design; humans do\n",
    "- Design helps the next developer (often you in 6 months) understand what to change\n",
    "- In DDD, where domain complexity is high, readability and structure directly impact our ability to evolve the model"
   ]
  },
  {
   "cell_type": "code",
   "execution_count": null,
   "metadata": {
    "polyglot_notebook": {
     "kernelName": "csharp"
    }
   },
   "outputs": [],
   "source": [
    "class OrderService // One has to figure out where code might be, at one place? at multiple place?\n",
    "{\n",
    "    void Process() {}\n",
    "    void Validate() {}\n",
    "    void Update() {}\n",
    "    void Cancel() {}\n",
    "    void Refund() {}\n",
    "}\n",
    "\n",
    "class OrderRefundHandler {} // The design/code is telling where it is"
   ]
  },
  {
   "cell_type": "markdown",
   "metadata": {},
   "source": [
    "__Design Is an Investment in Change__\n",
    "- You don’t design to “get it right the first time.” You design to change it later with low risk\n",
    "- Good design buys you the freedom to adapt when business rules change (which they will)\n",
    "- DDD assumes you’ll learn more about the domain over time—your code must flex with that learning"
   ]
  },
  {
   "cell_type": "code",
   "execution_count": null,
   "metadata": {
    "polyglot_notebook": {
     "kernelName": "csharp"
    }
   },
   "outputs": [],
   "source": [
    "void Send(string channel, string message)\n",
    "{\n",
    "    switch (channel)\n",
    "    {\n",
    "        case \"email\":\n",
    "            //SendEmail\n",
    "            break;\n",
    "        case \"sms\":\n",
    "            //SendSms\n",
    "            break;\n",
    "        case \"push\":\n",
    "            //SendPush\n",
    "            break;\n",
    "        // keeps growing...\n",
    "        default:\n",
    "            throw new ArgumentException(\"Unknown channel\");\n",
    "    }\n",
    "}\n",
    "\n",
    "interface INotify { void Send(string message); }\n",
    "\n",
    "IEnumerable<INotify> notifiers;\n",
    "foreach(var notify in notifiers) notify.Send(\"Hello\");"
   ]
  },
  {
   "cell_type": "markdown",
   "metadata": {},
   "source": [
    "__Localize the Impact of Change__\n",
    "- A good design contains change within boundaries\n",
    "- DDD uses Bounded Contexts to do this on a large scale\n",
    "- Even on the micro level, separating domain logic from infrastructure (e.g., don’t put business rules in controller code) supports the same principle"
   ]
  },
  {
   "cell_type": "code",
   "execution_count": null,
   "metadata": {
    "polyglot_notebook": {
     "kernelName": "csharp"
    }
   },
   "outputs": [],
   "source": [
    "dynamic db;\n",
    "void PlaceOrder(Guid customerId, decimal orderAmount)\n",
    "{\n",
    "    var customer = db.Customers.Find(customerId);\n",
    "\n",
    "    if (customer.CurrentBalance + orderAmount > customer.CreditLimit)\n",
    "        throw new InvalidOperationException(\"Credit limit exceeded.\");\n",
    "\n",
    "    customer.CurrentBalance += orderAmount;\n",
    "    db.SaveChanges();\n",
    "}\n",
    "\n",
    "class Customer\n",
    "{\n",
    "    void PlaceOrder(decimal orderAmount) { /* Credit Limit checks*/ } // may be later we want loyalty, customer discounts\n",
    "    // the proper place of cabinet\n",
    "}"
   ]
  },
  {
   "cell_type": "markdown",
   "metadata": {},
   "source": [
    "__Bad Design Grows Like Mold__\n",
    "- How a small compromise (like overusing a Utils class) can lead to a brittle system where everything touches everything\n",
    "- In DDD, we want high cohesion and low coupling so our domain can evolve in isolation from the tech details"
   ]
  },
  {
   "cell_type": "markdown",
   "metadata": {},
   "source": [
    "## 🧩 Domain Driven Design for Change"
   ]
  },
  {
   "cell_type": "markdown",
   "metadata": {},
   "source": [
    "- DDD accepts that change is the norm in business\n",
    "    - It’s not a bug, it’s a feature\n",
    "- DDD encourages modeling the domain so that the design reflects how the business evolves:\n",
    "    - Why does good design matter?\n",
    "    - We don’t model for perfection — we model to evolve\n",
    "        - The point of DDD isn’t to write fancy models—it’s to make it safe to change your mind about the model\n",
    "- Emphasis on language alignment make change safer and more isolated\n",
    "- Bounded Contexts acting as Strategic pattern\n",
    "    - A Bounded Context tells you where a model starts and ends\n",
    "    - It lets different teams or subsystems speak their own language without breaking each other’s code\n",
    "    - It’s not about how you write code—it’s about how you organize and protect meaning\n",
    "\n",
    "- Boundaries contain risk\n",
    "\n",
    "__Design for now vs design for change__"
   ]
  },
  {
   "cell_type": "markdown",
   "metadata": {},
   "source": [
    "# 🧩 Domain Driven Design"
   ]
  },
  {
   "cell_type": "markdown",
   "metadata": {},
   "source": [
    "## 📚 Revision"
   ]
  },
  {
   "cell_type": "markdown",
   "metadata": {},
   "source": [
    "1. Entities\n",
    "- Objects that have a distinct identity (Id) that runs through time and different states\n",
    "- The identity is more important than its attributes.\n",
    "- Example: Customer, Order, Product ✅\n",
    "\n",
    "2. Value Objects\n",
    "- Immutable, identity-less objects that describe aspects of the domain.\n",
    "- Compared based on their attribute values, not identity.\n",
    "- Example: Money, Address, Email ✅\n",
    "\n",
    "3. Aggregates\n",
    "- A cluster of domain objects (Entities + Value Objects) with a single Aggregate Root that enforces consistency and invariants.\n",
    "- Example: Order (root) with OrderItems ✅\n",
    "\n",
    "4. Repositories\n",
    "- Provide methods to access and persist Aggregates.\n",
    "- Act like an in-memory collection interface to the domain model.\n",
    "- Example: IOrderRepository, ICustomerRepository ✅\n",
    "\n",
    "5. Domain Services\n",
    "- Contain domain logic that doesn’t naturally fit within a single Entity or Value Object.\n",
    "- Stateless and operate on one or more Aggregates.\n",
    "- Example: PaymentService, CurrencyConversionService ✅\n",
    "\n",
    "6. Factories\n",
    "- Encapsulate complex creation logic for Aggregates or Entities.\n",
    "- Prevent construction leakage into consumers.\n",
    "- Example: OrderFactory.CreateFromCart(cart) ✅\n",
    "\n",
    "7. Domain Events\n",
    "- Represent something meaningful that happened in the domain.\n",
    "- Help with eventual consistency, side-effects, and integrating bounded contexts.\n",
    "- Example: OrderPlaced, CustomerRegistered ✅\n",
    "\n",
    "8. Specifications\n",
    "- Encapsulate business rules or selection criteria as objects.\n",
    "- Often used for querying or validation logic.\n",
    "- Example: EligibleForDiscountSpecification\n",
    "\n",
    "9. Modules (a.k.a. Packages)\n",
    "- Logical grouping of domain concepts to maintain high cohesion and low coupling.\n",
    "- Helps organize the model and prevent anemic domain models."
   ]
  },
  {
   "cell_type": "markdown",
   "metadata": {},
   "source": [
    "## 🔑 Entities / Unique Identity"
   ]
  },
  {
   "cell_type": "markdown",
   "metadata": {},
   "source": [
    "- In the early stages of designing an Entity, focus only on those primary attributes and behaviors that are central to its unique identity, as well as those useful for querying it\n",
    "- Purposely ignore all other attributes and behaviors until we settle on the primary ones"
   ]
  },
  {
   "cell_type": "code",
   "execution_count": null,
   "metadata": {
    "polyglot_notebook": {
     "kernelName": "csharp"
    }
   },
   "outputs": [],
   "source": [
    "// Domain Entity\n",
    "public class Employee\n",
    "{\n",
    "    public int EmployeeNumber { get; }\n",
    "    public string FirstName { get; }\n",
    "    public string LastName { get; }\n",
    "    public string Department { get; }\n",
    "\n",
    "    public Employee(int employeeNumber, string firstName, string lastName, string department)\n",
    "    {\n",
    "        EmployeeNumber = employeeNumber;\n",
    "        FirstName = firstName;\n",
    "        LastName = lastName;\n",
    "        Department = department;\n",
    "    }\n",
    "\n",
    "    public string FullName() => $\"{FirstName} {LastName}\";\n",
    "}\n",
    "\n",
    "// Repository Interface\n",
    "public interface IEmployeeRepository\n",
    "{\n",
    "    Employee GetByEmployeeNumber(int employeeNumber);\n",
    "    IEnumerable<Employee> GetByFirstName(string firstName);\n",
    "    IEnumerable<Employee> GetByFullName(string firstName, string lastName);\n",
    "}"
   ]
  },
  {
   "cell_type": "markdown",
   "metadata": {},
   "source": [
    "__Sources of Unique Identifier__\n",
    "- The user provides one or more original unique values as input to the application and the application must ensure that they are unique\n",
    "    - Title\n",
    "- The application relies on a persistence store, such as a database, to generate a unique identity\n",
    "    - Dont do select top 1 id from table order by id\n",
    "    - @@identity and scope_identity() of SQL Server; https://stackoverflow.com/questions/1920558/what-is-the-difference-between-scope-identity-identity-identity-and-ide\n",
    "- The application internally generates an identity using an algorithm that ensures uniqueness\n",
    "    - Accounting Document Numbers, Order / Invoice / Payment, Batch - Serial\n",
    "    - Guid\n",
    "- Another Bounded Context has already determined the unique identity. It is input or selected by the user from a set of choices\n",
    "    - Order Number to ship, for Shipment Context"
   ]
  },
  {
   "cell_type": "markdown",
   "metadata": {},
   "source": [
    "__The story of Guid, Database Identity, ID and Name__ 👈\n",
    "\n",
    "Users\n",
    "- UserGuid\n",
    "- UserIndex\n",
    "- UserID\n",
    "- UserName"
   ]
  },
  {
   "cell_type": "markdown",
   "metadata": {},
   "source": [
    "__What's Next?__\n",
    "\n",
    "1. ✅ Validate the Ubiquitous Language\n",
    "- Talk to domain experts and confirm:\n",
    "    - Is EmployeeNumber really the identity in their world?\n",
    "    - Are terms like Department, FirstName, LastName used consistently?\n",
    "    - Would something like FullName, JobTitle, or Role be more important than initially assumed?\n",
    "- Outcome: You refine your entity based on shared language and remove ambiguities early\n",
    "2. ✅ Introduce Value Objects Where Appropriate\n",
    "- Now that you’ve identified primary attributes, you can extract early Value Objects to enforce invariants and encapsulate logic:\n",
    "- Update Employee to use them. This gives your model stronger expressiveness and validation boundaries"
   ]
  },
  {
   "cell_type": "code",
   "execution_count": null,
   "metadata": {
    "polyglot_notebook": {
     "kernelName": "csharp"
    }
   },
   "outputs": [],
   "source": [
    "public record FullName(string FirstName, string LastName)\n",
    "{\n",
    "    public override string ToString() => $\"{FirstName} {LastName}\";\n",
    "}\n",
    "\n",
    "public record Department(string Name);"
   ]
  },
  {
   "cell_type": "markdown",
   "metadata": {},
   "source": [
    "3. ✅ Identify Core Behaviors (Methods)\n",
    "- Move beyond data — what actions can an Employee perform or have performed on them? For example:\n",
    "    - AssignToDepartment(Department department)\n",
    "    - ChangeName(FullName newName)\n",
    "- This step transitions your entity from a data container to a rich domain model.\n",
    "4. ✅ Model Invariants and Business Rules\n",
    "- Discuss and codify rules like:\n",
    "    - Can an employee change departments freely?\n",
    "    - Can employee numbers be reused?\n",
    "    - Are names required to be unique in a department?\n",
    "- Begin adding basic validation or domain events where appropriate.\n",
    "5. ✅ Refine Repository Interface\n",
    "- With more domain understanding, ask:\n",
    "    - Should repositories only expose lookups by identity?\n",
    "    - Should querying needs move to a query model/read side (if using CQRS)? Or create separate query services for full-text or filtered search."
   ]
  },
  {
   "cell_type": "code",
   "execution_count": null,
   "metadata": {
    "polyglot_notebook": {
     "kernelName": "csharp"
    }
   },
   "outputs": [],
   "source": [
    "Employee? FindById(EmployeeNumber id);"
   ]
  },
  {
   "cell_type": "markdown",
   "metadata": {},
   "source": [
    "6. ✅ Define Bounded Contexts (If System Is Larger)\n",
    "- Start sketching subdomains:\n",
    "    - HR Management\n",
    "    - Payroll\n",
    "    - Recruitment\n",
    "- Each may have a slightly different view of an Employee. This avoids an anemic, bloated model"
   ]
  },
  {
   "cell_type": "markdown",
   "metadata": {},
   "source": [
    "# 📚 Resources"
   ]
  },
  {
   "cell_type": "code",
   "execution_count": null,
   "metadata": {
    "polyglot_notebook": {
     "kernelName": "value"
    }
   },
   "outputs": [],
   "source": [
    "A realistic image cropped to show a stack of six programming books on a wooden office desk. In the background, a modern computer setup with a monitor, keyboard, and subtle office items is softly blurred. The books are stacked from bottom to top as follows:\n",
    "1. \"The Pragmatic Programmer\" – dark cover with white title, moderate thickness.\n",
    "2. \"CLR via C# (Developer Reference)\" – dark blue/black hardcover, thick reference size.\n",
    "3. \"Windows Runtime via C# (Developer Reference)\" – light blue hardcover, slightly thinner.\n",
    "4. \"Clean Code\" by Robert C. Martin – solid black paperback, medium thickness.\n",
    "5. \"Refactoring\" by Martin Fowler – white/light cover, medium thickness.\n",
    "6. \"Patterns, Principles, and Practices of Domain‑Driven Design\" by Scott Millett & Nick Tune – red/gray argyle-style upper section, thick softcover (~800 pages).\n",
    "\n",
    "Ensure realistic sizes, textures, visible spines with legible titles, lifelike proportions, and natural office lighting."
   ]
  },
  {
   "cell_type": "markdown",
   "metadata": {},
   "source": [
    "<img src=images/dalle-books.png height=600>"
   ]
  }
 ],
 "metadata": {
  "kernelspec": {
   "display_name": ".NET (C#)",
   "language": "C#",
   "name": ".net-csharp"
  },
  "language_info": {
   "name": "polyglot-notebook"
  },
  "polyglot_notebook": {
   "kernelInfo": {
    "defaultKernelName": "csharp",
    "items": [
     {
      "aliases": [],
      "languageName": "csharp",
      "name": "csharp"
     },
     {
      "aliases": [],
      "languageName": "python",
      "name": "pythonkernel"
     }
    ]
   }
  }
 },
 "nbformat": 4,
 "nbformat_minor": 2
}
