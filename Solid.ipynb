{
 "cells": [
  {
   "cell_type": "markdown",
   "metadata": {},
   "source": [
    "# SOLID\n",
    "\n",
    "- Single-responsibility principle\n",
    "- Open–closed principle\n",
    "- Liskov substitution principle\n",
    "- Interface segregation principle\n",
    "- Dependency inversion principle"
   ]
  },
  {
   "cell_type": "markdown",
   "metadata": {},
   "source": [
    "## Single Responsibility Principle\n",
    "\n",
    "A class should have only one reason to change\n",
    "\n",
    "https://en.wikipedia.org/wiki/Single-responsibility_principle"
   ]
  },
  {
   "cell_type": "code",
   "execution_count": null,
   "metadata": {
    "dotnet_interactive": {
     "language": "csharp"
    },
    "polyglot_notebook": {
     "kernelName": "csharp"
    }
   },
   "outputs": [],
   "source": [
    "static class Constants\n",
    "{\n",
    "    public const string LoginSelector = \"\";\n",
    "    public const string PasswordSelector = \"\";\n",
    "}\n",
    "\n",
    "class LoginPage\n",
    "{\n",
    "    Constants.LoginSelector\n",
    "}"
   ]
  },
  {
   "cell_type": "markdown",
   "metadata": {},
   "source": [
    "## The Liskov Substitution Principle (LSP)\n",
    "\n",
    "If S is a subtype of T, then objects of type T should be replaced with objects of type S\n",
    "\n",
    "https://en.wikipedia.org/wiki/Liskov_substitution_principle"
   ]
  },
  {
   "cell_type": "code",
   "execution_count": null,
   "metadata": {
    "dotnet_interactive": {
     "language": "csharp"
    },
    "polyglot_notebook": {
     "kernelName": "csharp"
    }
   },
   "outputs": [],
   "source": [
    "abstract class Hypervisor //or virtual methods\n",
    "{}\n",
    "\n",
    "sealed class AzureHypervisor : Hypervisor //overrides\n",
    "{}\n",
    "\n",
    "sealed class HyperVHypervisor : Hypervisor\n",
    "{}\n",
    "\n",
    "class VirtualApi\n",
    "{\n",
    "    Hypervisor hypervisor;\n",
    "}"
   ]
  },
  {
   "cell_type": "markdown",
   "metadata": {},
   "source": [
    "## The Open Closed Principle (OCP)\n",
    "\n",
    "- A module will be said to be open if it is still available for extension. For example, it should be possible to add fields to the data structures it contains, or new elements to the set of functions it performs.\n",
    "- A module will be said to be closed if [it] is available for use by other modules. This assumes that the module has been given a well-defined, stable description (the interface in the sense of information hiding).\n",
    "\n",
    "https://en.wikipedia.org/wiki/Open%E2%80%93closed_principle\n",
    "\n",
    "- Overloads and Overrides\n",
    "- Default Parameters and Extension Methods"
   ]
  },
  {
   "cell_type": "code",
   "execution_count": null,
   "metadata": {
    "dotnet_interactive": {
     "language": "csharp"
    },
    "polyglot_notebook": {
     "kernelName": "csharp"
    }
   },
   "outputs": [],
   "source": [
    "class Square\n",
    "{\n",
    "    public int Side {get;set;}\n",
    "}\n",
    "\n",
    "class AreaCalculator\n",
    "{\n",
    "    public int Area(Square shape)\n",
    "    {\n",
    "        return shape.Side * shape.Side;\n",
    "    }\n",
    "}\n",
    "\n",
    "class Circle\n",
    "{\n",
    "    public int Radius {get;set;}\n",
    "}\n",
    "\n",
    "//Invoice + Sales Order example; line item calculations\n",
    "//type of invoice may be\n",
    "//Understand the liskov subsitution; different replaceable calculators; Discount Calculators; Sales and Discounts"
   ]
  },
  {
   "cell_type": "markdown",
   "metadata": {},
   "source": [
    "## The Dependency Inversion Principle (DIP)\n",
    "\n",
    "- High-level modules should not import anything from low-level modules. Both should depend on abstractions (e.g., interfaces).\n",
    "- Abstractions should not depend on details. Details (concrete implementations) should depend on abstractions.\n",
    "\n",
    "https://en.wikipedia.org/wiki/Dependency_inversion_principle"
   ]
  },
  {
   "cell_type": "code",
   "execution_count": null,
   "metadata": {
    "dotnet_interactive": {
     "language": "csharp"
    },
    "polyglot_notebook": {
     "kernelName": "csharp"
    }
   },
   "outputs": [],
   "source": [
    "interface IHypervisor\n",
    "{}\n",
    "\n",
    "interface ITestData\n",
    "{}\n",
    "\n",
    "interface IRepository\n",
    "{}\n",
    "\n",
    "//System.Web example"
   ]
  },
  {
   "cell_type": "markdown",
   "metadata": {},
   "source": [
    "## The Interface Segregation Principle (ISP)\n",
    "\n",
    "- Mo class should be forced to implement any method(s) they don’t use.\n",
    "- Instead of creating large interfaces, create multiple smaller interfaces\n",
    "\n",
    "https://en.wikipedia.org/wiki/Interface_segregation_principle"
   ]
  },
  {
   "cell_type": "code",
   "execution_count": null,
   "metadata": {
    "dotnet_interactive": {
     "language": "csharp"
    },
    "polyglot_notebook": {
     "kernelName": "csharp"
    }
   },
   "outputs": [],
   "source": [
    "interface IHypervisor\n",
    "{}\n",
    "\n",
    "interface IReconnectableHypervisor : IHypervisor\n",
    "{}"
   ]
  }
 ],
 "metadata": {
  "kernelspec": {
   "display_name": ".NET (C#)",
   "language": "C#",
   "name": ".net-csharp"
  },
  "language_info": {
   "name": "polyglot-notebook"
  },
  "polyglot_notebook": {
   "kernelInfo": {
    "defaultKernelName": "csharp",
    "items": [
     {
      "aliases": [],
      "languageName": "csharp",
      "name": "csharp"
     }
    ]
   }
  }
 },
 "nbformat": 4,
 "nbformat_minor": 2
}
