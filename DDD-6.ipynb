{
 "cells": [
  {
   "cell_type": "markdown",
   "metadata": {},
   "source": [
    "# 🧠 Github Copilot"
   ]
  },
  {
   "cell_type": "markdown",
   "metadata": {},
   "source": [
    "- Copilot Agent - ATS\n",
    "- Talk to the document; tldr\n",
    "- Copilot Chats in Solution/Projects/Folders\n",
    "    - Chat Histories\n",
    "    - MCPs\n",
    "    - Using Chat to fix Agent issue"
   ]
  },
  {
   "cell_type": "markdown",
   "metadata": {},
   "source": [
    "<img src=images/llms-github-copilot.png>"
   ]
  },
  {
   "cell_type": "markdown",
   "metadata": {},
   "source": [
    "# 💡 Boundaries and Encapsulation"
   ]
  },
  {
   "cell_type": "markdown",
   "metadata": {},
   "source": [
    "Think clearly about modularity, leakage, and autonomy of parts—essential for managing complexity as systems grow"
   ]
  },
  {
   "cell_type": "markdown",
   "metadata": {},
   "source": [
    "Most modern IDEs and languages tend to **default to \"public everything\"**, especially in auto-generated code, scaffolding, or templates\n",
    "\n",
    "- **C# (Visual Studio)**\n",
    "  - Class templates, scaffolds often generate `public class`, `public methods`, etc\n",
    "- **Java (Eclipse, IntelliJ)**\n",
    "  - Class wizards and method stubs tend to default to `public`\n",
    "- **TypeScript / JavaScript (VS Code)**\n",
    "  - Everything is effectively public unless you explicitly use `private`, `#` (in JS), or `export`/`not exported`\n",
    "- **Python**\n",
    "  - No real access modifiers; all attributes/methods are public unless prefixed by `_`, and even then it’s just convention\n",
    "- **Go**\n",
    "  - Identifier casing controls visibility (`UpperCase = exported/public`), so public APIs are the norm\n",
    "\n",
    "  __Why its problem__\n",
    "- Unrestricted visibility **destroys encapsulation**\n",
    "- It **invites coupling** across bounded contexts, modules, or aggregates\n",
    "- Makes code harder to change, test, or evolve—**opposite of \"Designing for Change.\"**\n"
   ]
  },
  {
   "cell_type": "markdown",
   "metadata": {},
   "source": [
    "# 🕸️ Distributed Systems"
   ]
  },
  {
   "cell_type": "markdown",
   "metadata": {},
   "source": [
    "## 🕸️ Overview"
   ]
  },
  {
   "cell_type": "markdown",
   "metadata": {},
   "source": [
    "- DDD helped us model complex business logic in a modular way\n",
    "- As domains grow, they can't live in one place (codebase or server) forever\n",
    "- We move from Modular Monoliths → Microservices → Distributed Systems\n",
    "\n",
    "*If we break a system into Bounded Contexts, how do they talk to each other?* 👈"
   ]
  },
  {
   "cell_type": "markdown",
   "metadata": {},
   "source": [
    "__What?__\n",
    "\n",
    "A distributed system is a system whose components are located on different networked computers, which communicate and coordinate their actions by passing messages\n",
    "\n",
    "Examples:\n",
    "- Microservices Architecture\n",
    "- Cloud-native apps (e.g. Netflix)\n",
    "- Database clusters\n",
    "- Event-driven systems"
   ]
  },
  {
   "cell_type": "markdown",
   "metadata": {},
   "source": [
    "__When?__\n",
    "\n",
    "When you NEED them:\n",
    "- Scale: Users, data, compute\n",
    "- Resilience: One node shouldn't bring the system down\n",
    "- Bounded Contexts in DDD grow into deployable, independently scalable units\n",
    "\n",
    "Trade-offs:\n",
    "- Simplicity vs Flexibility\n",
    "- Coordination vs Performance"
   ]
  },
  {
   "cell_type": "markdown",
   "metadata": {},
   "source": [
    "<img src=images/distributed-systems.png width=800>"
   ]
  },
  {
   "cell_type": "markdown",
   "metadata": {},
   "source": [
    "## 🕸️ Core Concepts"
   ]
  },
  {
   "cell_type": "markdown",
   "metadata": {},
   "source": [
    "__Latency and Network__\n",
    "- Calls are not local anymore\n",
    "- Communication = over the network = slower, less reliable\n",
    "\n",
    "__CAP Theorem__\n",
    "- You can’t have all 3: Consistency, Availability, Partition Tolerance\n",
    "- Pick your trade-offs (this is directly related to domain rules!)\n",
    "\n",
    "__Failures are Normal__\n",
    "- Nodes fail, messages get lost\n",
    "- Systems must expect and handle failure\n",
    "\n",
    "__Data Consistency__\n",
    "- Eventual vs Strong\n",
    "- Domain rules guide how much consistency you need\n",
    "\n",
    "__Distributed Transactions?__\n",
    "- Saga Patterns, Compensation, Idempotency — not simple DB transactions"
   ]
  },
  {
   "cell_type": "markdown",
   "metadata": {},
   "source": [
    "<img src=images/cap-theorem.webp width=800>"
   ]
  },
  {
   "cell_type": "markdown",
   "metadata": {},
   "source": [
    "## 🧩 Domain Driven Design"
   ]
  },
  {
   "cell_type": "markdown",
   "metadata": {},
   "source": [
    "*DDD gave us the language to model domains — Distributed Systems are how we scale and deliver them in the real world*\n",
    "\n",
    "- DDD leads to modular boundaries, which scale into distributed components\n",
    "- Distributed Systems introduce latency, failures, and complexity\n",
    "- We must design with network, consistency, and communication in mind\n",
    "- The domain drives the architecture — even in distributed environments"
   ]
  },
  {
   "cell_type": "markdown",
   "metadata": {},
   "source": [
    "<img src=images/eventual-consistency.png width=800>"
   ]
  },
  {
   "cell_type": "markdown",
   "metadata": {},
   "source": [
    "## 📨 Queues"
   ]
  },
  {
   "cell_type": "markdown",
   "metadata": {},
   "source": [
    "__Why__\n",
    "\n",
    "- Decoupling\n",
    "- Buffering\n",
    "- Load leveling\n",
    "- Async Processing"
   ]
  },
  {
   "cell_type": "markdown",
   "metadata": {},
   "source": [
    "__Example Scenarios__\n",
    "\n",
    "- Order Processing in e-commernce\n",
    "- Background job scheduling\n",
    "- Event-driven microservices"
   ]
  },
  {
   "cell_type": "markdown",
   "metadata": {},
   "source": [
    "__Limitation of Redis / Importance of RabbitMQ / Kafka__\n",
    "\n",
    "- Redis\n",
    "- RabbitMQ\n",
    "- Kafka\n",
    "- IoT Messaging - Protocol Importance"
   ]
  },
  {
   "cell_type": "markdown",
   "metadata": {},
   "source": [
    "### 📨 Pub/Sub vs Point-to-Point"
   ]
  },
  {
   "cell_type": "markdown",
   "metadata": {},
   "source": [
    "__Point-to-Point (Queue-based Messaging)__\n",
    "- Model: Producer → Queue → One Consumer\n",
    "- A producer sends messages to a queue\n",
    "- Only one consumer processes each message\n",
    "- Once the message is consumed, it's gone from the queue\n",
    "- Use Case: Task processing, work distribution, load balancing\n",
    "- Example Scenarios:\n",
    "    - A web app sends an image for processing\n",
    "    - Message goes to a queue\n",
    "    - One worker picks it up and processes it"
   ]
  },
  {
   "cell_type": "markdown",
   "metadata": {},
   "source": [
    "__Publish/Subscribe Messaging__\n",
    "- Model: Publisher → Topic → Multiple Subscribers\n",
    "- A publisher sends messages to a topic\n",
    "- All active subscribers to that topic receive a copy of the message\n",
    "- Use Case: Event notification, broadcasting information\n",
    "- Example Scenario:\n",
    "    - A service publishes a “user signed up” event\n",
    "    - Billing, Email, and Analytics services each receive the event and act on it"
   ]
  },
  {
   "cell_type": "markdown",
   "metadata": {},
   "source": [
    "### 📨 Atleast-once vs Exactly-once"
   ]
  },
  {
   "cell_type": "markdown",
   "metadata": {},
   "source": [
    "__At-Least-Once Delivery__\n",
    "- What it means: A message is delivered one or more times\n",
    "- Risk: Duplicates may occur\n",
    "- Why: The system retries sending if it doesn’t get an acknowledgment\n",
    "- Your responsibility: Ensure your consumer is idempotent (can safely handle duplicates)\n",
    "- Example Use Case: Sending an email—better to send twice than to not send at all"
   ]
  },
  {
   "cell_type": "markdown",
   "metadata": {},
   "source": [
    "__Exactly-Once Delivery__\n",
    "- What it means: A message is delivered only once, no duplicates, no losses\n",
    "- Harder to achieve: Requires coordination between sender, broker, and consumer\n",
    "- Often involves:\n",
    "    - Transactions\n",
    "    - Deduplication logic\n",
    "    - Message offsets tracking\n",
    "- Example Use Case: Processing a bank transaction—duplicates would be unacceptable"
   ]
  },
  {
   "cell_type": "markdown",
   "metadata": {},
   "source": [
    "## 📨 Messaging Systems"
   ]
  },
  {
   "cell_type": "markdown",
   "metadata": {},
   "source": [
    "### 📨 Traditional Systems"
   ]
  },
  {
   "cell_type": "markdown",
   "metadata": {},
   "source": [
    "- Queues in Databases"
   ]
  },
  {
   "cell_type": "code",
   "execution_count": null,
   "metadata": {
    "polyglot_notebook": {
     "kernelName": "value"
    }
   },
   "outputs": [],
   "source": [
    "-- Enable Service Broker\n",
    "ALTER DATABASE [YourDatabaseName] SET ENABLE_BROKER;\n",
    "\n",
    "-- Create message type\n",
    "CREATE MESSAGE TYPE SimpleMessage VALIDATION = NONE;\n",
    "\n",
    "-- Create contract\n",
    "CREATE CONTRACT SimpleContract (SimpleMessage SENT BY INITIATOR);\n",
    "\n",
    "-- Create queue\n",
    "CREATE QUEUE SimpleQueue;\n",
    "\n",
    "-- Create service\n",
    "CREATE SERVICE SimpleService ON QUEUE SimpleQueue (SimpleContract);"
   ]
  },
  {
   "cell_type": "code",
   "execution_count": null,
   "metadata": {
    "polyglot_notebook": {
     "kernelName": "csharp"
    }
   },
   "outputs": [],
   "source": [
    "using System.Data.SqlClient;\n",
    "\n",
    "var connectionString = \"Server=localhost;Database=YourDatabaseName;Integrated Security=true\";\n",
    "\n",
    "using var connection = new SqlConnection(connectionString);\n",
    "connection.Open();\n",
    "\n",
    "using var sendCmd = connection.CreateCommand();\n",
    "sendCmd.CommandText = @\"\n",
    "        DECLARE @DialogHandle UNIQUEIDENTIFIER;\n",
    "        BEGIN DIALOG CONVERSATION @DialogHandle\n",
    "            FROM SERVICE [SimpleService]\n",
    "            TO SERVICE 'SimpleService'\n",
    "            ON CONTRACT [SimpleContract]\n",
    "            WITH ENCRYPTION = OFF;\n",
    "\n",
    "        SEND ON CONVERSATION @DialogHandle\n",
    "        MESSAGE TYPE [SimpleMessage]\n",
    "        ('Hello from SQL Server Queue');\n",
    "    \";\n",
    "sendCmd.ExecuteNonQuery();"
   ]
  },
  {
   "cell_type": "code",
   "execution_count": null,
   "metadata": {
    "polyglot_notebook": {
     "kernelName": "csharp"
    }
   },
   "outputs": [],
   "source": [
    "using var receiveCmd = connection.CreateCommand();\n",
    "receiveCmd.CommandText = @\"\n",
    "    WAITFOR (\n",
    "        RECEIVE TOP(1) CONVERT(VARCHAR(MAX), message_body) AS Message\n",
    "        FROM SimpleQueue\n",
    "    ), TIMEOUT 5000;\n",
    "\";\n",
    "var message = receiveCmd.ExecuteScalar();\n",
    "Console.WriteLine($\"Received: {message}\");"
   ]
  },
  {
   "cell_type": "markdown",
   "metadata": {},
   "source": [
    "### ⚡ Message Brokers"
   ]
  },
  {
   "cell_type": "markdown",
   "metadata": {},
   "source": [
    "- Redis\n",
    "- __Message Brokers__\n",
    "    - RabbitMQ\n",
    "    - Kafka\n",
    "    - MQTT"
   ]
  },
  {
   "cell_type": "markdown",
   "metadata": {},
   "source": [
    "<img src=images/rabbitmq.png>\n",
    "\n",
    "- https://www.rabbitmq.com/tutorials\n",
    "\n",
    "<img src=images/kafka.png>\n",
    "\n",
    "- https://kafka.apache.org/intro\n",
    "\n",
    "<img src=images/kafka-streams.png height=400>"
   ]
  },
  {
   "cell_type": "markdown",
   "metadata": {},
   "source": [
    "- The story of too much data and why we ended up writing our own \"Snarter MQTT Server\" 👈\n",
    "    - https://github.com/dotnet/MQTTnet\n",
    "    - https://github.com/microsoft/Trill 🥰"
   ]
  },
  {
   "cell_type": "markdown",
   "metadata": {},
   "source": [
    "### 🗄️ PostgreSQL"
   ]
  },
  {
   "cell_type": "code",
   "execution_count": null,
   "metadata": {
    "polyglot_notebook": {
     "kernelName": "value"
    }
   },
   "outputs": [],
   "source": [
    "docker run --name pgmq -e POSTGRES_PASSWORD=pgmqpass -p 5432:5432 -d quay.io/tembo/pgmq-pg:latest"
   ]
  },
  {
   "cell_type": "code",
   "execution_count": null,
   "metadata": {
    "polyglot_notebook": {
     "kernelName": "value"
    }
   },
   "outputs": [],
   "source": [
    "-- Connect to your db (e.g., psql or any SQL tool)\n",
    "\n",
    "-- Create the extension\n",
    "CREATE EXTENSION IF NOT EXISTS pgmq;\n",
    "\n",
    "-- Create a queue\n",
    "SELECT * FROM pgmq_create('my_queue');\n",
    "\n",
    "-- Send a message\n",
    "SELECT * FROM pgmq_send('my_queue', 'Hello from pgmq!');\n",
    "\n",
    "-- Read a message (doesn't delete it)\n",
    "SELECT * FROM pgmq_read('my_queue', 30, 1);\n",
    "\n",
    "-- Pop (read and delete) a message\n",
    "SELECT * FROM pgmq_pop('my_queue', 30);"
   ]
  },
  {
   "cell_type": "code",
   "execution_count": null,
   "metadata": {
    "polyglot_notebook": {
     "kernelName": "csharp"
    }
   },
   "outputs": [],
   "source": [
    "#r \"nuget: Npgsql\""
   ]
  },
  {
   "cell_type": "code",
   "execution_count": null,
   "metadata": {
    "polyglot_notebook": {
     "kernelName": "csharp"
    }
   },
   "outputs": [],
   "source": [
    "using Npgsql;\n",
    "\n",
    "const string ConnStr = \"Host=localhost;Username=postgres;Password=pgmqpass;Database=eventum\";\n",
    "\n",
    "static void SendMessage(NpgsqlConnection conn, string message)\n",
    "{\n",
    "    using var cmd = new NpgsqlCommand(\"SELECT * FROM pgmq_send('my_queue', @msg)\", conn);\n",
    "    cmd.Parameters.AddWithValue(\"msg\", message);\n",
    "    cmd.ExecuteNonQuery();\n",
    "}\n",
    "\n",
    "static void ReceiveMessage(NpgsqlConnection conn)\n",
    "{\n",
    "    using var cmd = new NpgsqlCommand(\"SELECT * FROM pgmq_pop('my_queue', 30)\", conn);\n",
    "    using var reader = cmd.ExecuteReader();\n",
    "    while (reader.Read())\n",
    "    {\n",
    "        var body = reader[\"message\"].ToString();\n",
    "        Console.WriteLine(body);\n",
    "    }\n",
    "}\n",
    "\n",
    "using var conn = new NpgsqlConnection(ConnStr);\n",
    "conn.Open();\n",
    "\n",
    "SendMessage(conn, \"Hello from C# via pgmq\");\n",
    "ReceiveMessage(conn);"
   ]
  },
  {
   "cell_type": "markdown",
   "metadata": {},
   "source": [
    "### 🗄️ Vanilla Database"
   ]
  },
  {
   "cell_type": "code",
   "execution_count": null,
   "metadata": {
    "polyglot_notebook": {
     "kernelName": "value"
    }
   },
   "outputs": [],
   "source": [
    "CREATE TABLE messages (\n",
    "    id SERIAL PRIMARY KEY,\n",
    "    content TEXT\n",
    ");"
   ]
  },
  {
   "cell_type": "code",
   "execution_count": null,
   "metadata": {
    "polyglot_notebook": {
     "kernelName": "csharp"
    }
   },
   "outputs": [],
   "source": [
    "using Npgsql;\n",
    "\n",
    "const string ConnectionString = \"Host=localhost;Username=postgres;Password=yourpassword;Database=eventum\";\n",
    "\n",
    "using var conn = new NpgsqlConnection(ConnectionString);\n",
    "conn.Open();\n",
    "\n",
    "// Send message\n",
    "using (var cmd = new NpgsqlCommand(\"INSERT INTO messages (content) VALUES (@msg)\", conn))\n",
    "{\n",
    "    cmd.Parameters.AddWithValue(\"msg\", \"Hello, PostgreSQL!\");\n",
    "    cmd.ExecuteNonQuery();\n",
    "}\n",
    "\n",
    "// Receive message\n",
    "using (var cmd = new NpgsqlCommand(\"SELECT content FROM messages ORDER BY id DESC LIMIT 1\", conn))\n",
    "using (var reader = cmd.ExecuteReader())\n",
    "{\n",
    "    while (reader.Read())\n",
    "    {\n",
    "        Console.WriteLine(reader.GetString(0));\n",
    "    }\n",
    "}"
   ]
  },
  {
   "cell_type": "markdown",
   "metadata": {},
   "source": [
    "### 🌐 Cloud"
   ]
  },
  {
   "cell_type": "markdown",
   "metadata": {},
   "source": [
    "__AWS__\n",
    "- https://aws.amazon.com/messaging\n",
    "\n",
    "__Azure__\n",
    "- https://azure.microsoft.com/en-us/solutions/messaging-services\n",
    "- CosmosDB\n",
    "\n",
    "__Google__\n",
    "- Firebase"
   ]
  },
  {
   "cell_type": "code",
   "execution_count": null,
   "metadata": {
    "polyglot_notebook": {
     "kernelName": "csharp"
    }
   },
   "outputs": [],
   "source": [
    "// Sample Change Feed Processor setup (not full implementation)\n",
    "ChangeFeedProcessor processor = container\n",
    "    .GetChangeFeedProcessorBuilder<Message>(\"processorName\", async (changes, token) =>\n",
    "    {\n",
    "        foreach (var message in changes)\n",
    "        {\n",
    "            Console.WriteLine($\"Message: {message.content}\");\n",
    "            // Custom logic here\n",
    "        }\n",
    "    })\n",
    "    .WithInstanceName(\"instance1\")\n",
    "    .WithLeaseContainer(leaseContainer)\n",
    "    .Build();\n",
    "\n",
    "await processor.StartAsync();"
   ]
  },
  {
   "cell_type": "markdown",
   "metadata": {},
   "source": [
    "- https://learn.microsoft.com/en-us/azure/architecture/databases/guide/transactional-outbox-cosmos\n",
    "    - https://github.com/AzureCosmosDB/quickstart-nosql-dotnet"
   ]
  },
  {
   "cell_type": "code",
   "execution_count": null,
   "metadata": {
    "polyglot_notebook": {
     "kernelName": "csharp"
    }
   },
   "outputs": [],
   "source": [
    "#r \"nuget: Newtonsoft.Json\"\n",
    "#r \"nuget: Microsoft.Azure.Cosmos\""
   ]
  },
  {
   "cell_type": "code",
   "execution_count": null,
   "metadata": {
    "polyglot_notebook": {
     "kernelName": "csharp"
    }
   },
   "outputs": [],
   "source": [
    "using Microsoft.Azure.Cosmos;\n",
    "\n",
    "// first lets check if environment variable COSMOSDB is set\n",
    "if (string.IsNullOrEmpty(Environment.GetEnvironmentVariable(\"COSMOSDB\")))\n",
    "{\n",
    "    Console.WriteLine(\"Please set the COSMOSDB environment variable with your Cosmos DB connection string.\");\n",
    "    return;\n",
    "}\n",
    "\n",
    "var client = new CosmosClient(\n",
    "    connectionString: Environment.GetEnvironmentVariable(\"COSMOSDB\")\n",
    ");\n",
    "var database = await client.CreateDatabaseIfNotExistsAsync(\"trainings\");\n",
    "var container = client.GetContainer(\"trainings\", \"eventum\");"
   ]
  },
  {
   "cell_type": "code",
   "execution_count": null,
   "metadata": {
    "polyglot_notebook": {
     "kernelName": "csharp"
    }
   },
   "outputs": [],
   "source": [
    "// List items\n",
    "var query = container.GetItemQueryIterator<dynamic>(\"SELECT * FROM c\");\n",
    "while (query.HasMoreResults)\n",
    "{\n",
    "    var response = await query.ReadNextAsync();\n",
    "    foreach (var item in response)\n",
    "        Console.WriteLine($\"Item: {item}\");\n",
    "}"
   ]
  },
  {
   "cell_type": "code",
   "execution_count": null,
   "metadata": {
    "polyglot_notebook": {
     "kernelName": "csharp"
    }
   },
   "outputs": [],
   "source": [
    "record Item(string Id, string partitionKey, string Content);\n",
    "\n",
    "//Create item\n",
    "var item = new Item(\"item1\", \"testing\", \"Hello, Cosmos DB!\");\n",
    "var createResponse = await container.UpsertItemAsync<Item>(item, new PartitionKey(item.partitionKey)); //CreateItemAsync(item);\n",
    "Console.WriteLine($\"Created item: {createResponse.Resource}\");\n",
    "\n",
    "// // Read item\n",
    "// var itemResponse = await container.ReadItemAsync<Item>(\n",
    "//     id: item.Id,\n",
    "//     partitionKey: new PartitionKey(\"testing\")\n",
    "// );\n",
    "// Console.WriteLine($\"Read item: {itemResponse.Resource}\");"
   ]
  },
  {
   "cell_type": "code",
   "execution_count": null,
   "metadata": {
    "polyglot_notebook": {
     "kernelName": "csharp"
    }
   },
   "outputs": [],
   "source": [
    "// Update item\n",
    "itemResponse.Resource.content = \"Updated content\";\n",
    "var updateResponse = await container.ReplaceItemAsync(itemResponse.Resource, itemId, partitionKey);\n",
    "Console.WriteLine($\"Updated item: {updateResponse.Resource}\");\n",
    "// Delete item\n",
    "var deleteResponse = await container.DeleteItemAsync<dynamic>(itemId, partitionKey);\n",
    "Console.WriteLine($\"Deleted item: {deleteResponse.Resource}\");"
   ]
  },
  {
   "cell_type": "markdown",
   "metadata": {},
   "source": [
    "- https://cloudevents.io\n",
    "    - https://github.com/cloudevents/sdk-csharp\n",
    "- https://supabase.com"
   ]
  },
  {
   "cell_type": "markdown",
   "metadata": {},
   "source": [
    "### 📨 Other Concerns"
   ]
  },
  {
   "cell_type": "markdown",
   "metadata": {},
   "source": [
    "__Idempotency__\n",
    "- Definition: An operation is idempotent if performing it multiple times has the same effect as doing it once\n",
    "- Why it matters: In at-least-once delivery, messages may be retried → your code must not break or double-process\n",
    "- Example\n",
    "    - POST /ship-order/123 → Ship order #123\n",
    "    - If the message is processed twice:\n",
    "    - Without idempotency: the order might be shipped twice\n",
    "    - With idempotency: the system detects it's already processed order #123 → does nothing\n",
    "- Common approaches:\n",
    "    - Deduplication keys\n",
    "    - Storing processed message IDs\n",
    "    - Using natural idempotent operations (e.g., setting a value)"
   ]
  },
  {
   "cell_type": "markdown",
   "metadata": {},
   "source": [
    "__Message Ordering__\n",
    "- Problem: Messages may arrive out of order due to retries, network delays, or partitioning\n",
    "- Critical when: Actions depend on a sequence (e.g., “order placed” → “order paid” → “order shipped”)\n",
    "- Challenges:\n",
    "    - Pub/Sub systems (like Kafka) can maintain order within a partition, but not globally.\n",
    "    - Point-to-point queues may preserve order if single consumer, but retries and concurrency can disrupt it.\n",
    "- Solutions:\n",
    "    - Sequence numbers in messages\n",
    "    - Partitioning based on keys (e.g., Kafka with consistent hashing)\n",
    "    - Processing through single-threaded consumers per entity (e.g., per order ID)"
   ]
  },
  {
   "cell_type": "markdown",
   "metadata": {},
   "source": [
    "# 🧩 Domain Driven Design"
   ]
  },
  {
   "cell_type": "markdown",
   "metadata": {},
   "source": [
    "## 🛠️ Business Logic & Infrastructure"
   ]
  },
  {
   "cell_type": "markdown",
   "metadata": {},
   "source": [
    "__Business Logic__\n",
    "\n",
    "This is the heart of your application — the rules and behavior that represent your domain, examples:\n",
    "- Calculating a discount for a customer\n",
    "- Validating that an order can be placed\n",
    "- Changing the status of a payment\n",
    "- Checking if a user has permission to perform an action\n",
    "\n",
    "It belongs to:\n",
    "- Domain Layer\n",
    "- Application Layer (or orchestration logic)"
   ]
  },
  {
   "cell_type": "markdown",
   "metadata": {},
   "source": [
    "__Infrastructure__\n",
    "\n",
    "This is the technical implementation — the code that deals with external systems or frameworks, examples:\n",
    "- Sending an email\n",
    "- Saving to a database\n",
    "- Calling an external API\n",
    "- Writing to a log file\n",
    "\n",
    "It belongs to:\n",
    "- Infrastructure Layer (also called adapters or ports in Hexagonal/Clean Architecture)"
   ]
  },
  {
   "cell_type": "markdown",
   "metadata": {},
   "source": [
    "__Why This Separation Matters__\n",
    "- Maintainability: You can change infrastructure (e.g., move from SQL to MongoDB) without touching your core domain logic\n",
    "- Testability: Business rules can be tested in isolation, without needing a database or network\n",
    "- Clarity: Your domain code tells the story of the business, not how things are wired"
   ]
  },
  {
   "cell_type": "code",
   "execution_count": null,
   "metadata": {
    "polyglot_notebook": {
     "kernelName": "csharp"
    }
   },
   "outputs": [],
   "source": [
    "// ✅ the right place for eligibility check\n",
    "class LoanApplication\n",
    "{\n",
    "    public decimal Income { get; }\n",
    "    public int CreditScore { get; }\n",
    "\n",
    "    public LoanApplication(decimal income, int creditScore)\n",
    "    {\n",
    "        Income = income;\n",
    "        CreditScore = creditScore;\n",
    "    }\n",
    "\n",
    "    public bool IsEligible() => // why we are not naming it Validate() 👈\n",
    "        Income > 50000 && CreditScore >= 700;\n",
    "}\n",
    "\n",
    "interface ILoanRepository { bool Save(LoanApplication loan); }\n",
    "// ❌ not a place for eligibility check\n",
    "class SqlLoanRepository : ILoanRepository\n",
    "{\n",
    "    public bool Save(LoanApplication loan) { /* save to SQL DB */return false; }\n",
    "}\n",
    "\n",
    "class LoanProcessor\n",
    "{\n",
    "    readonly ILoanRepository repository;\n",
    "\n",
    "    public LoanProcessor(ILoanRepository repository) =>\n",
    "        this.repository = repository;\n",
    "\n",
    "    public bool Process(LoanApplication loan) =>\n",
    "        loan.IsEligible() && this.repository.Save(loan);\n",
    "}"
   ]
  },
  {
   "cell_type": "markdown",
   "metadata": {},
   "source": [
    "__DDD Naming Guideline__\n",
    "\n",
    "Use ubiquitous language — terms that the domain experts (business stakeholders) use, in most business domains, terms like \"Processor\" are technical jargon. A better name reflects what the domain is doing, not how the code processes it\n",
    "\n",
    "🔁 Better DDD-style alternatives for LoanProcessor:\n",
    "- LoanApprovalService, clearly reflects a business operation\n",
    "- LoanApprovalUseCase, Good in application layer (use-case-oriented)\n",
    "- LoanOfficer, Metaphor from the real world (person role)\n",
    "- LoanEvaluator, Focuses on evaluating business criteria"
   ]
  },
  {
   "cell_type": "markdown",
   "metadata": {},
   "source": [
    "__In CQRS (Command Query Responsibility Segregation):__\n",
    "- Commands → Change state\n",
    "- Queries → Read data\n",
    "- Handlers → Execute intent"
   ]
  },
  {
   "cell_type": "code",
   "execution_count": null,
   "metadata": {
    "polyglot_notebook": {
     "kernelName": "csharp"
    }
   },
   "outputs": [],
   "source": [
    "record ApproveLoanCommand(decimal Income, int CreditScore); // but why we need this when we have LoanApplication\n",
    "\n",
    "class ApproveLoanCommandHandler\n",
    "{\n",
    "    readonly ILoanRepository repository;\n",
    "\n",
    "    public ApproveLoanCommandHandler(ILoanRepository repository) =>\n",
    "        this.repository = repository;\n",
    "\n",
    "    public bool Handle(ApproveLoanCommand command)\n",
    "    {\n",
    "        var loan = new LoanApplication(command.Income, command.CreditScore);\n",
    "        return loan.IsEligible() && this.repository.Save(loan);\n",
    "    }\n",
    "}"
   ]
  },
  {
   "cell_type": "markdown",
   "metadata": {},
   "source": [
    "## 🧺 Aggregates"
   ]
  },
  {
   "cell_type": "markdown",
   "metadata": {},
   "source": [
    "### 🚀 Aggregate Design"
   ]
  },
  {
   "cell_type": "markdown",
   "metadata": {},
   "source": [
    "A core tactical pattern in DDD is the Aggregate, which defines a transactional consistency boundary around a cluster of Entities and Value Objects\n",
    "- The rule of Aggregates is that only a single instance should be modified within a single transaction.\n",
    "\n",
    "When a command on one Aggregate instance requires business rules to execute on other Aggregates, DDD advocates for eventual consistency\n",
    "- While changes within a single Aggregate are transactionally consistent, consistency between Aggregates is often achieved asynchronously over time"
   ]
  },
  {
   "cell_type": "code",
   "execution_count": null,
   "metadata": {
    "polyglot_notebook": {
     "kernelName": "csharp"
    }
   },
   "outputs": [],
   "source": [
    "// State Inside SalesOrder Aggregate\n",
    "enum SalesOrderState { PreSale, Approved, Completed }\n",
    "\n",
    "class SalesOrder\n",
    "{\n",
    "    public Guid Id { get; private set; }\n",
    "    public SalesOrderState State { get; private set; }\n",
    "\n",
    "    public SalesOrder Approve() { return null; }\n",
    "    public SalesOrder Complete() { return null; }\n",
    "}"
   ]
  },
  {
   "cell_type": "code",
   "execution_count": null,
   "metadata": {
    "polyglot_notebook": {
     "kernelName": "csharp"
    }
   },
   "outputs": [],
   "source": [
    "// SalesOrder + Separate WorkflowExecution Aggregate\n",
    "\n",
    "class SalesOrder\n",
    "{\n",
    "    public Guid Id { get; private set; }\n",
    "    public Guid WorkflowExecutionId { get; private set; }\n",
    "}\n",
    "\n",
    "enum WorkflowState { PreSale, Approved, Completed }\n",
    "class WorkflowExecution\n",
    "{\n",
    "    public Guid Id { get; private set; }\n",
    "    public Guid SalesOrderId { get; private set; }\n",
    "    public WorkflowState State { get; private set; }\n",
    "\n",
    "    public WorkflowExecution Approve() { return null; }\n",
    "    public WorkflowExecution Complete() { return null; }\n",
    "}"
   ]
  },
  {
   "cell_type": "markdown",
   "metadata": {},
   "source": [
    "__Pros and Cons__\n",
    "\n",
    "| Criteria                     | State in `SalesOrder`                               | Separate `WorkflowExecution`                                 |\n",
    "|------------------------------|------------------------------------------------------|-------------------------------------------------------------|\n",
    "| **Simplicity**               | ✅ Fewer objects, easier to reason about             | ❌ Adds indirection, more infrastructure                   |\n",
    "| **Encapsulation**            | ❌ State logic clutters SalesOrder                   | ✅ State logic isolated and focused                        |\n",
    "| **Scalability**              | ❌ Tight coupling limits scalability                 | ✅ Loosely coupled, better for distributed systems         |\n",
    "| **Transactional Boundaries** | ❌ Hard to keep clean if other Aggregates involved   | ✅ Only one Aggregate modified per transaction             |\n",
    "| **State Transitions**        | ❌ Risks mixing responsibilities                     | ✅ Clear modeling of long-running workflows                |\n",
    "| **Reusability**              | ❌ Hard to apply to other domains                    | ✅ WorkflowExecution can be reused across contexts         |\n",
    "| **Complexity**               | ✅ Lower for simple apps                             | ❌ Higher infrastructure and coordination overhead         |\n",
    "| **Eventual Consistency**     | ❌ Hard to model async processes                     | ✅ Natural fit with message/event-based workflows          |"
   ]
  },
  {
   "cell_type": "markdown",
   "metadata": {},
   "source": [
    "### 🚀 Eventual Consistency"
   ]
  },
  {
   "cell_type": "markdown",
   "metadata": {},
   "source": [
    "- Replicated Data Systems\n",
    "- Weak Guarantee about \"when\" replicas will converge\n",
    "- Confusing behavior for application developers coming from \"single-threaded\" mindset\n",
    "- Bugs can be subtle and challenging to detect\n",
    "    - Network Interruptions\n",
    "    - High Concurrency"
   ]
  },
  {
   "cell_type": "markdown",
   "metadata": {},
   "source": [
    "### 🚀 Why ?"
   ]
  },
  {
   "cell_type": "markdown",
   "metadata": {},
   "source": [
    "__Scalability and Performance__\n",
    "- Embracing eventual consistency outside Aggregate boundaries allows systems to perform and scale better, especially in high-traffic or distributed environments\n",
    "- Large-cluster Aggregates, which might be needed for immediate consistency, can limit performance and scalability\n",
    "\n",
    "__Distributed Systems__\n",
    "- DDD acknowledges that in distributed systems, particularly those spanning multiple bounded contexts or geographical locations, immediate consistency across all replicas is often impractical and costly\n",
    "- Eventual consistency, often facilitated by Domain Events and Event-Driven Architectures, allows different Bounded Contexts to remain loosely coupled and operate autonomously\n",
    "\n",
    "__Domain Experts' Perspective__\n",
    "- Domain experts often find the concept of delayed consistency more acceptable than developers, as they are aware of real-world business delays that occur regardless of computer automation\n",
    "- This alignment with business realities helps design more practical and effective systems\n",
    "\n",
    "__Simpler Application Code (at higher level)__\n",
    "- By having the database or underlying system provide stronger guarantees through transactions, the application code can be simpler\n",
    "- However, when transactions are abandoned, the complexity shifts to the application layer to manage consistency\n",
    "- DDD's approach with Aggregates and Domain Events aims to provide a structured way to handle this complexity\n",
    "\n",
    "__Event Sourcing__\n",
    "- Event Sourcing, a technique that stores all changes to application state as a log of immutable events, pairs well with eventual consistency within DDD\n",
    "- By replaying these events, the state of an Aggregate can be reconstituted, and views can be derived, often asynchronously. This naturally leads to eventual consistency for derived views"
   ]
  },
  {
   "cell_type": "markdown",
   "metadata": {},
   "source": [
    "## ➕ Specification Pattern"
   ]
  },
  {
   "cell_type": "code",
   "execution_count": null,
   "metadata": {
    "polyglot_notebook": {
     "kernelName": "csharp"
    }
   },
   "outputs": [],
   "source": [
    "record Employee(int ID, string Name, string Department,\n",
    "    DateTime JoiningDate,\n",
    "    bool IsActive, bool IsAssigned);\n",
    "\n",
    "IEnumerable<Employee> table; // ..\n",
    "var q = table.AsQueryable();\n",
    "\n",
    "q = q.Where(e => e.IsActive);\n",
    "q = q.Where(e => e.IsAssigned);\n",
    "\n",
    "foreach(var r in q) { }\n",
    "\n",
    "var result = q.ToArray();\n",
    "foreach(var r in result.OrderBy(e => e.JoiningDate)) { }"
   ]
  },
  {
   "cell_type": "markdown",
   "metadata": {},
   "source": [
    "- https://deviq.com/design-patterns/specification-pattern\n",
    "- https://specification.ardalis.com"
   ]
  },
  {
   "cell_type": "code",
   "execution_count": null,
   "metadata": {
    "polyglot_notebook": {
     "kernelName": "csharp"
    }
   },
   "outputs": [],
   "source": [
    "// SolenLms Example\n",
    "//// 01 / Course Management / Features / Instructors / Queries\n",
    "////// Ardalis Specification"
   ]
  }
 ],
 "metadata": {
  "kernelspec": {
   "display_name": ".NET (C#)",
   "language": "C#",
   "name": ".net-csharp"
  },
  "language_info": {
   "name": "polyglot-notebook"
  },
  "polyglot_notebook": {
   "kernelInfo": {
    "defaultKernelName": "csharp",
    "items": [
     {
      "aliases": [],
      "languageName": "csharp",
      "name": "csharp"
     },
     {
      "aliases": [],
      "languageName": "python",
      "name": "pythonkernel"
     }
    ]
   }
  }
 },
 "nbformat": 4,
 "nbformat_minor": 2
}
