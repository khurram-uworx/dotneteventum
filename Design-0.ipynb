{
 "cells": [
  {
   "cell_type": "markdown",
   "metadata": {},
   "source": [
    "# Demo / Discussion"
   ]
  },
  {
   "cell_type": "code",
   "execution_count": null,
   "metadata": {
    "dotnet_interactive": {
     "language": "csharp"
    },
    "polyglot_notebook": {
     "kernelName": "csharp"
    }
   },
   "outputs": [],
   "source": [
    "//Placeholder"
   ]
  },
  {
   "cell_type": "code",
   "execution_count": null,
   "metadata": {
    "dotnet_interactive": {
     "language": "csharp"
    },
    "polyglot_notebook": {
     "kernelName": "csharp"
    }
   },
   "outputs": [],
   "source": [
    "public interface ILog\n",
    "{\n",
    "    void Log();\n",
    "}\n",
    "\n",
    "public abstract class BaseEntity : ILog\n",
    "{\n",
    "    public abstract void LoadEntity();\n",
    "\n",
    "    void ILog.Log()\n",
    "    {\n",
    "        //filelogs\n",
    "    }\n",
    "}\n",
    "\n",
    "sealed class Student : BaseEntity\n",
    "{\n",
    "    Student() {}\n",
    "\n",
    "    public class EngineeringStudentFactory\n",
    "    { }\n",
    "\n",
    "\n",
    "    public override void LoadEntity()\n",
    "    { }\n",
    "\n",
    "    public void LoadStudent(int studentNumber)\n",
    "    {   \n",
    "        //Log();\n",
    "        LoadEntity();\n",
    "    }\n",
    "}\n",
    "\n",
    "var s = new Student();\n",
    "var s2 = s as ILog;\n",
    "s2.Log();"
   ]
  },
  {
   "cell_type": "code",
   "execution_count": null,
   "metadata": {
    "dotnet_interactive": {
     "language": "csharp"
    },
    "polyglot_notebook": {
     "kernelName": "csharp"
    }
   },
   "outputs": [],
   "source": [
    "// Dependency\n",
    "\n",
    "class Bar {}\n",
    "\n",
    "class Foo\n",
    "{\n",
    "    void fooMethod(Bar bar) {}\n",
    "}"
   ]
  },
  {
   "cell_type": "code",
   "execution_count": null,
   "metadata": {
    "dotnet_interactive": {
     "language": "csharp"
    },
    "polyglot_notebook": {
     "kernelName": "csharp"
    }
   },
   "outputs": [],
   "source": [
    "// Association\n",
    "\n",
    "class Bar {}\n",
    "\n",
    "class Foo\n",
    "{\n",
    "    Bar bar;\n",
    "}"
   ]
  },
  {
   "cell_type": "code",
   "execution_count": null,
   "metadata": {
    "dotnet_interactive": {
     "language": "csharp"
    },
    "polyglot_notebook": {
     "kernelName": "csharp"
    }
   },
   "outputs": [],
   "source": [
    "// Composition\n",
    "\n",
    "class Bar {}\n",
    "\n",
    "class Foo\n",
    "{\n",
    "    Bar bar = new();\n",
    "}"
   ]
  },
  {
   "cell_type": "code",
   "execution_count": null,
   "metadata": {
    "dotnet_interactive": {
     "language": "csharp"
    },
    "polyglot_notebook": {
     "kernelName": "csharp"
    }
   },
   "outputs": [],
   "source": [
    "// Aggregation\n",
    "\n",
    "class Bar {}\n",
    "\n",
    "class Foo\n",
    "{\n",
    "    List<Bar> bars = new();\n",
    "}"
   ]
  }
 ],
 "metadata": {
  "kernelspec": {
   "display_name": ".NET (C#)",
   "language": "C#",
   "name": ".net-csharp"
  },
  "language_info": {
   "name": "polyglot-notebook"
  },
  "polyglot_notebook": {
   "kernelInfo": {
    "defaultKernelName": "csharp",
    "items": [
     {
      "aliases": [],
      "languageName": "csharp",
      "name": "csharp"
     }
    ]
   }
  }
 },
 "nbformat": 4,
 "nbformat_minor": 2
}
