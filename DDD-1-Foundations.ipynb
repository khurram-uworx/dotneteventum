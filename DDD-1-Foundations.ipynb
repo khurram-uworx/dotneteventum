{
 "cells": [
  {
   "cell_type": "markdown",
   "metadata": {},
   "source": [
    "# 🧐 The Layered Architectures"
   ]
  },
  {
   "cell_type": "markdown",
   "metadata": {},
   "source": [
    "<img src=images/layered-system.png width=800><br>\n",
    "\n",
    "<img src=images/layered-deployments.png width=800>"
   ]
  },
  {
   "cell_type": "markdown",
   "metadata": {},
   "source": [
    "- Assemblies\n",
    "    - Namespaces and Assembly\n",
    "    - System.Data.Common\n",
    "    - System.Web and System.Web.Extensions"
   ]
  },
  {
   "cell_type": "markdown",
   "metadata": {},
   "source": [
    "<img src=images/crappy-abstract.webp height=700>"
   ]
  },
  {
   "cell_type": "markdown",
   "metadata": {},
   "source": [
    "Hexagonal"
   ]
  },
  {
   "cell_type": "markdown",
   "metadata": {},
   "source": [
    "<img src=images/clean-architecture.jpg>\n",
    "\n",
    "- https://blog.cleancoder.com/uncle-bob/2012/08/13/the-clean-architecture.html"
   ]
  },
  {
   "cell_type": "markdown",
   "metadata": {},
   "source": [
    "# 🤝 Seperating Responsibility"
   ]
  },
  {
   "cell_type": "markdown",
   "metadata": {},
   "source": [
    "Design Patterns\n",
    "\n",
    "- Visitor Pattern\n",
    "    - IEnumerable and IEnumerator (of T)\n",
    "- Strategy Pattern\n",
    "    - IComparer and IComparer of T"
   ]
  },
  {
   "cell_type": "markdown",
   "metadata": {},
   "source": [
    "## ⚡ Events"
   ]
  },
  {
   "cell_type": "markdown",
   "metadata": {},
   "source": [
    "<img src=images/event-emitter-listener.png width=1000>"
   ]
  },
  {
   "cell_type": "markdown",
   "metadata": {},
   "source": [
    "<img src=images/event-loop.svg width=600>\n",
    "\n",
    "These are events triggered by user interactions, typically in graphical user interfaces (GUIs):\n",
    "- Mouse Events – onClick, onHover, onDoubleClick.\n",
    "- Keyboard Events – onKeyDown, onKeyPress, onKeyUp.\n",
    "- Touch Events – onSwipe, onPinch, onTap (for mobile devices)."
   ]
  },
  {
   "cell_type": "markdown",
   "metadata": {},
   "source": [
    "<img src=images/nodejs-eventloop.png width=600>"
   ]
  }
 ],
 "metadata": {
  "kernelspec": {
   "display_name": ".NET (C#)",
   "language": "C#",
   "name": ".net-csharp"
  },
  "language_info": {
   "name": "polyglot-notebook"
  },
  "polyglot_notebook": {
   "kernelInfo": {
    "defaultKernelName": "csharp",
    "items": [
     {
      "aliases": [],
      "languageName": "csharp",
      "name": "csharp"
     },
     {
      "aliases": [],
      "languageName": "python",
      "name": "pythonkernel"
     }
    ]
   }
  }
 },
 "nbformat": 4,
 "nbformat_minor": 2
}
