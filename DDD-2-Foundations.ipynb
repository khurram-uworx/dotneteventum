{
 "cells": [
  {
   "cell_type": "markdown",
   "metadata": {},
   "source": [
    "# 🧐 The Organizing Table"
   ]
  },
  {
   "cell_type": "markdown",
   "metadata": {},
   "source": [
    "<img src=images/organizing-table-architecture.png>"
   ]
  },
  {
   "cell_type": "markdown",
   "metadata": {},
   "source": [
    "# 🤝 Seperating Responsibility"
   ]
  },
  {
   "cell_type": "markdown",
   "metadata": {},
   "source": [
    "## ⚡ Delegates & Events in C#"
   ]
  },
  {
   "cell_type": "markdown",
   "metadata": {},
   "source": [
    "### Delegate Revision"
   ]
  },
  {
   "cell_type": "code",
   "execution_count": null,
   "metadata": {
    "polyglot_notebook": {
     "kernelName": "csharp"
    }
   },
   "outputs": [],
   "source": [
    "delegate int MathOperation(int x, int y);\n",
    "\n",
    "int Add1(int x, int y) => x + y;\n",
    "var operation1 = new MathOperation(Add1);\n",
    "operation1(3, 4) // operation.Invoke(3, 4); operation?.Invoke"
   ]
  },
  {
   "cell_type": "code",
   "execution_count": null,
   "metadata": {
    "polyglot_notebook": {
     "kernelName": "csharp"
    }
   },
   "outputs": [],
   "source": [
    "delegate int MathOperation(int x, int y);\n",
    "MathOperation operation2 = delegate (int x, int y) { return x - y; }; // anonymous / inline\n",
    "operation2(4, 3)"
   ]
  },
  {
   "cell_type": "code",
   "execution_count": null,
   "metadata": {
    "polyglot_notebook": {
     "kernelName": "csharp"
    }
   },
   "outputs": [],
   "source": [
    "Action<string> log = s => Console.WriteLine(s);\n",
    "Func<int, int, int> subtract = (x, y) => x - y;\n",
    "log(\"Subtracting 3 from 4\");\n",
    "subtract(4, 3)"
   ]
  },
  {
   "cell_type": "code",
   "execution_count": null,
   "metadata": {
    "polyglot_notebook": {
     "kernelName": "csharp"
    }
   },
   "outputs": [],
   "source": [
    "var square = (int x) => x * x; // infererence\n",
    "square(4)"
   ]
  },
  {
   "cell_type": "markdown",
   "metadata": {},
   "source": [
    "- Builders, Factories\n",
    "- Callbacks, Lazy loadings\n",
    "- Control and Inversion of Control\n",
    "- Multicasting\n",
    "- Async Programming before async/await"
   ]
  },
  {
   "cell_type": "code",
   "execution_count": null,
   "metadata": {
    "polyglot_notebook": {
     "kernelName": "csharp"
    }
   },
   "outputs": [],
   "source": [
    "void FirstHandler(string message) => Console.WriteLine($\"[1] {message}\");\n",
    "void SecondHandler(string message) => Console.WriteLine($\"[2] {message}\");\n",
    "\n",
    "delegate void Notify(string message);\n",
    "\n",
    "Notify notify = FirstHandler;\n",
    "notify += SecondHandler;\n",
    "\n",
    "notify(\"Hello, delegates!\");\n",
    "\n",
    "notify -= SecondHandler;\n",
    "notify(\"After removing SecondHandler.\");"
   ]
  },
  {
   "cell_type": "code",
   "execution_count": null,
   "metadata": {
    "polyglot_notebook": {
     "kernelName": "csharp"
    }
   },
   "outputs": [],
   "source": [
    "//Async; but will not work here in Notebook setting\n",
    "using System.Threading;\n",
    "\n",
    "delegate void LongProcess();\n",
    "\n",
    "void Process()\n",
    "{\n",
    "    Console.WriteLine($\"Running Process in {Thread.CurrentThread.ManagedThreadId}\");\n",
    "    Thread.Sleep(5000); //simulating\n",
    "}\n",
    "\n",
    "LongProcess lp = Process;\n",
    "var handler = lp.BeginInvoke(null, null);\n",
    "Console.WriteLine($\"Running Main in {Thread.CurrentThread.ManagedThreadId}\");\n",
    "Thread.Sleep(3000); //simulating bit faster\n",
    "lp.EndInvoke(handler);"
   ]
  },
  {
   "cell_type": "markdown",
   "metadata": {},
   "source": [
    "### Events"
   ]
  },
  {
   "cell_type": "markdown",
   "metadata": {},
   "source": [
    "<img src=images/event-emitter-listener.png width=800>"
   ]
  },
  {
   "cell_type": "code",
   "execution_count": null,
   "metadata": {
    "polyglot_notebook": {
     "kernelName": "csharp"
    }
   },
   "outputs": [],
   "source": [
    "delegate void StringDelegate(string s);\n",
    "\n",
    "class Emitter\n",
    "{\n",
    "    public event StringDelegate OnStringEvent;\n",
    "\n",
    "    public void SomeAction(string p)\n",
    "    {\n",
    "        // may be do something\n",
    "        if (null != OnStringEvent) OnStringEvent($\"Called with {p}\");\n",
    "        // may be do something more\n",
    "    }\n",
    "}\n",
    "\n",
    "void print(string s) => Console.WriteLine($\"Print Method: {s}\");\n",
    "\n",
    "var e = new Emitter();\n",
    "e.SomeAction(\"1\");\n",
    "\n",
    "// subscribe\n",
    "e.OnStringEvent += print;\n",
    "e.OnStringEvent += s => Console.WriteLine($\"Delegate/Inline Listener: {s}\");\n",
    "e.SomeAction(\"2\");\n",
    "\n",
    "// unsubscribe\n",
    "e.OnStringEvent -= print;\n",
    "e.SomeAction(\"3\");"
   ]
  },
  {
   "cell_type": "markdown",
   "metadata": {},
   "source": [
    "__Multicasting and Events__\n",
    "\n",
    "Events in C# are build on top of delegates. When you declare an event, it uses a delegate as its underlying mechanism, and thus supports multicasting\n",
    "- Events restrict direct access to the delegate's invocation list. You cannot invoke the delegate directly; only the class defining the event can\n",
    "- This restriction ensures encapsulation and avoids unintended external modifications.\n",
    "\n",
    "__Key Difference__\n",
    "\n",
    "- Delegates: Allow full control over adding, removing, and invoking methods.\n",
    "- Events: Limit control to adding and removing handlers; invocation is restricted to the event's defining class. 👈"
   ]
  },
  {
   "cell_type": "code",
   "execution_count": null,
   "metadata": {
    "polyglot_notebook": {
     "kernelName": "csharp"
    }
   },
   "outputs": [],
   "source": [
    "using System.IO;\n",
    "\n",
    "class StringEventArgs : EventArgs\n",
    "{\n",
    "    public string StringValue { get; set; } = null;\n",
    "}\n",
    "\n",
    "class FileProcessor\n",
    "{\n",
    "    //public event EventHandler OnLineRead; // 1.0\n",
    "    public event EventHandler<StringEventArgs> OnLineRead; // 1.1\n",
    "\n",
    "    string filePath = null;\n",
    "    public FileProcessor(string filePath)\n",
    "    {\n",
    "        if (!File.Exists(filePath)) throw new ArgumentException();\n",
    "        this.filePath = filePath;\n",
    "    }\n",
    "\n",
    "    public void ReadLineByLine()\n",
    "    {\n",
    "        using var sr = new StreamReader(this.filePath);\n",
    "\n",
    "        string line;\n",
    "        while ((line = sr.ReadLine()) != null)\n",
    "        {\n",
    "            if (line.Length > 0 && null != this.OnLineRead) // we are checking if someone is interested\n",
    "                this.OnLineRead(this, new StringEventArgs { StringValue = line });\n",
    "        }\n",
    "    }\n",
    "}\n",
    "\n",
    "string text = \"\";\n",
    "\n",
    "void accumulator(object sender, StringEventArgs args)\n",
    "{\n",
    "    // in 1.0 without generics we had to cast\n",
    "    text += args.StringValue;\n",
    "\n",
    "    // if we crash here ? what will happen to sender ? 👈\n",
    "    // if there are multiple listeners ?\n",
    "}\n",
    "\n",
    "var f = new FileProcessor(\"input.txt\");\n",
    "f.OnLineRead += accumulator;        // operator overloading\n",
    "f.OnLineRead += (s, e) => Console.WriteLine(e.StringValue);\n",
    "f.ReadLineByLine();\n",
    "\n",
    "Console.WriteLine(text);\n",
    "\n",
    "text = \"all gone\";\n",
    "f.OnLineRead -= accumulator;\n",
    "f.ReadLineByLine();\n",
    "Console.WriteLine(text);"
   ]
  },
  {
   "cell_type": "markdown",
   "metadata": {},
   "source": [
    "### Delegates vs Events"
   ]
  },
  {
   "cell_type": "markdown",
   "metadata": {},
   "source": [
    "- Delegates are more general-purpose and can be used in various scenarios\n",
    "- Events are specifically designed for notifications and provide a more structured and controlled way for objects to communicate with each other"
   ]
  },
  {
   "cell_type": "markdown",
   "metadata": {},
   "source": [
    "# 🌐 Event Driven Thinking"
   ]
  },
  {
   "cell_type": "markdown",
   "metadata": {},
   "source": [
    "- Events as state changes (e.g., OrderPlaced, PaymentProcessed)\n",
    "- Difference between commands (do this) and events (this happened)\n",
    "- Event characteristics\n",
    "    - Immutable (facts of the past)\n",
    "    - Self-contained (all data needed for processing)\n",
    "    - Named in past tense (UserRegistered, not RegisterUser)"
   ]
  },
  {
   "cell_type": "markdown",
   "metadata": {},
   "source": [
    "A remote procedure call (RPC) is a protocol that allows a computer program to run a function on another computer or server. RPCs are used in distributed computing and are often used to call remote functions on a server"
   ]
  },
  {
   "cell_type": "markdown",
   "metadata": {},
   "source": [
    "<img src=images/rpc.png>"
   ]
  },
  {
   "cell_type": "code",
   "execution_count": null,
   "metadata": {
    "polyglot_notebook": {
     "kernelName": "csharp"
    }
   },
   "outputs": [],
   "source": [
    "record RequestProperties(string CorrelationId, string ReplyTo);\n",
    "\n",
    "string correlationId = Guid.NewGuid().ToString();\n",
    "var props = new RequestProperties(correlationId, \"reply-to-me-here\");\n",
    "\n",
    "// Fire and forget\n",
    "// Send Message\n",
    "\n",
    "// Fire and forget; but you have a seperate \"listener\"\n",
    "// Send Message\n",
    "// Optionally let listener know we are expecting a reply....or it is always ready\n",
    "\n",
    "// RPC\n",
    "// Send Message\n",
    "// Wait till you are replied or time out\n",
    "// Process Reply"
   ]
  },
  {
   "cell_type": "markdown",
   "metadata": {},
   "source": [
    "<img src=images/message-queueing-distributed.png>"
   ]
  }
 ],
 "metadata": {
  "kernelspec": {
   "display_name": ".NET (C#)",
   "language": "C#",
   "name": ".net-csharp"
  },
  "language_info": {
   "name": "polyglot-notebook"
  },
  "polyglot_notebook": {
   "kernelInfo": {
    "defaultKernelName": "csharp",
    "items": [
     {
      "aliases": [],
      "languageName": "csharp",
      "name": "csharp"
     },
     {
      "aliases": [],
      "languageName": "python",
      "name": "pythonkernel"
     }
    ]
   }
  }
 },
 "nbformat": 4,
 "nbformat_minor": 2
}
