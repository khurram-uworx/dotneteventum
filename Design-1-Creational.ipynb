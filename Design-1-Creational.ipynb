{
 "cells": [
  {
   "cell_type": "markdown",
   "metadata": {},
   "source": [
    "# Singleton"
   ]
  },
  {
   "cell_type": "markdown",
   "metadata": {},
   "source": [
    "https://en.wikipedia.org/wiki/Singleton_pattern"
   ]
  },
  {
   "cell_type": "code",
   "execution_count": null,
   "metadata": {
    "dotnet_interactive": {
     "language": "csharp"
    },
    "polyglot_notebook": {
     "kernelName": "csharp"
    }
   },
   "outputs": [],
   "source": [
    "using System.Threading;\n",
    "\n",
    "class Singleton\n",
    "{\n",
    "    static readonly object lockObject = new object();\n",
    "\n",
    "    static volatile Singleton instance; //volatile importance\n",
    "\n",
    "    string value = null;\n",
    "\n",
    "    Singleton() \n",
    "    {\n",
    "        Console.WriteLine(\"ctor started\");\n",
    "        Thread.Sleep(5000);\n",
    "        value = \"Heavy initialization\";\n",
    "        Console.WriteLine(\"ctor finished\");\n",
    "    }\n",
    "\n",
    "    public string Value => value;\n",
    "\n",
    "    public static Singleton Instance\n",
    "    {\n",
    "        get\n",
    "        {\n",
    "            if (instance == null)\n",
    "            {\n",
    "                lock (lockObject)\n",
    "                {\n",
    "                    if (instance == null)\n",
    "                    {\n",
    "                        instance = new Singleton();\n",
    "                    }\n",
    "                }\n",
    "            }\n",
    "            return instance;\n",
    "        }\n",
    "    }\n",
    "}\n",
    "\n",
    "Singleton.Instance.Value"
   ]
  },
  {
   "cell_type": "code",
   "execution_count": null,
   "metadata": {
    "dotnet_interactive": {
     "language": "csharp"
    },
    "polyglot_notebook": {
     "kernelName": "csharp"
    }
   },
   "outputs": [],
   "source": [
    "using System.Threading;\n",
    "\n",
    "class Singleton\n",
    "{\n",
    "    static readonly Singleton instance = new Singleton();\n",
    "\n",
    "    string value = null;\n",
    "\n",
    "    static Singleton() \n",
    "    {\n",
    "        Console.WriteLine(\"ctor started\");\n",
    "        Thread.Sleep(5000);\n",
    "        value = \"Heavy initialization\";\n",
    "        Console.WriteLine(\"ctor finished\");\n",
    "    }\n",
    "\n",
    "    public string Value => value;\n",
    "\n",
    "    public static Singleton Instance => instance;\n",
    "    public static int Number => 5;\n",
    "}\n",
    "\n",
    "Console.WriteLine(Singleton.Number);\n",
    "Singleton.Instance.Value"
   ]
  },
  {
   "cell_type": "code",
   "execution_count": null,
   "metadata": {
    "dotnet_interactive": {
     "language": "csharp"
    },
    "polyglot_notebook": {
     "kernelName": "csharp"
    }
   },
   "outputs": [],
   "source": [
    "using System.Threading;\n",
    "\n",
    "class Singleton\n",
    "{\n",
    "    static readonly Lazy<Singleton> instance = new (() => new Singleton());  \n",
    "\n",
    "    string value = null;\n",
    "\n",
    "    Singleton() \n",
    "    {\n",
    "        Console.WriteLine(\"ctor\");\n",
    "        Thread.Sleep(5000);\n",
    "        value = \"Heavy initialization\";\n",
    "    }\n",
    "\n",
    "    public string Value => value;\n",
    "\n",
    "    public static Singleton Instance => instance.Value;\n",
    "    public static int Number => 5;\n",
    "}\n",
    "\n",
    "Console.WriteLine(Singleton.Number);\n",
    "Singleton.Instance.Value"
   ]
  },
  {
   "cell_type": "markdown",
   "metadata": {},
   "source": [
    "# Factory Methods"
   ]
  },
  {
   "cell_type": "markdown",
   "metadata": {},
   "source": [
    "https://en.wikipedia.org/wiki/Factory_method_pattern"
   ]
  },
  {
   "cell_type": "code",
   "execution_count": null,
   "metadata": {
    "dotnet_interactive": {
     "language": "csharp"
    },
    "polyglot_notebook": {
     "kernelName": "csharp"
    }
   },
   "outputs": [],
   "source": [
    "// var s = Student.CreateStudent();\n",
    "// var s = Student.CreateDauScholler();\n",
    "// var s = await Student.CreateEngineeringStudentAsync(\"Mechanical\");\n",
    "// var s = EngineeringStudentFactory.CreateStudent(\"Mechanical);\n",
    "// var s = Student.EngineeringFactory.CreateStudent(\"Mechanical\");\n",
    "// var s = Student.EngineeringFactory.CreateMechanicalStudent();\n",
    "\n",
    "Task t = Task.Factory.StartNew(() =>\n",
    "{\n",
    "    Thread.Sleep(3000);\n",
    "    Console.WriteLine(\"Long running task completed\");\n",
    "});\n",
    "\n",
    "//t.Wait();\n",
    "await t;"
   ]
  },
  {
   "cell_type": "markdown",
   "metadata": {},
   "source": [
    "# Abstract Factory"
   ]
  },
  {
   "cell_type": "markdown",
   "metadata": {},
   "source": [
    "https://en.wikipedia.org/wiki/Abstract_factory_pattern\n",
    "\n",
    "<img src=\"images/1a-abstract-factory.png\">"
   ]
  },
  {
   "cell_type": "code",
   "execution_count": null,
   "metadata": {
    "dotnet_interactive": {
     "language": "csharp"
    },
    "polyglot_notebook": {
     "kernelName": "csharp"
    }
   },
   "outputs": [],
   "source": [
    "//Abstract factory\n",
    "public abstract class DbProviderFactory\n",
    "{\n",
    "    public abstract DbConnection CreateConnection();\n",
    "    public abstract DbCommand CreateCommand();\n",
    "}\n",
    "\n",
    "//Concrete factory\n",
    "public class SqlClientFactory : DbProviderFactory\n",
    "{\n",
    "    public override DbConnection CreateConnection() \n",
    "        => new SqlConnection();\n",
    "    \n",
    "    public override DbCommand CreateCommand() \n",
    "        => new SqlCommand();\n",
    "}\n",
    "\n",
    "//Concrete factory\n",
    "public class PostgreSqlClientFactory : DbProviderFactory\n",
    "{\n",
    "    public override DbConnection CreateConnection() \n",
    "        => new PostgreSqlConnection();\n",
    "        \n",
    "    public override DbCommand CreateCommand() \n",
    "        => new PostgreSqlCommand();\n",
    "}"
   ]
  },
  {
   "cell_type": "markdown",
   "metadata": {},
   "source": [
    "# Creating Objects"
   ]
  },
  {
   "cell_type": "code",
   "execution_count": null,
   "metadata": {
    "dotnet_interactive": {
     "language": "csharp"
    },
    "polyglot_notebook": {
     "kernelName": "csharp"
    }
   },
   "outputs": [],
   "source": [
    "var r = Activator.CreateInstance(typeof(DateTime), 60);\n",
    "\n",
    "//var o = Activator.CreateInstance(\"\", \"\");\n",
    "//var r = o.Unwrap();\n",
    "\n",
    "static object createInstanceHelper(string assemblyName, string typeName)\n",
    "{\n",
    "    object oToReturn = null;\n",
    "    System.Runtime.Remoting.ObjectHandle h = Activator.CreateInstance(assemblyName, typeName);\n",
    "    if (null != h)\n",
    "    {\n",
    "        oToReturn = h.Unwrap();\n",
    "        return oToReturn;\n",
    "    }\n",
    "    else\n",
    "        throw new ApplicationException(\"Activator.CreateInstance() returned null ObjectHandle for type \" + typeName + \" from assembly \" + assemblyName);\n",
    "\n",
    "}\n",
    "\n",
    "var f = new[] { r.GetType().ToString(), r };\n",
    "f"
   ]
  }
 ],
 "metadata": {
  "kernelspec": {
   "display_name": ".NET (C#)",
   "language": "C#",
   "name": ".net-csharp"
  },
  "language_info": {
   "name": "polyglot-notebook"
  },
  "polyglot_notebook": {
   "kernelInfo": {
    "defaultKernelName": "csharp",
    "items": [
     {
      "aliases": [],
      "languageName": "csharp",
      "name": "csharp"
     }
    ]
   }
  }
 },
 "nbformat": 4,
 "nbformat_minor": 2
}
