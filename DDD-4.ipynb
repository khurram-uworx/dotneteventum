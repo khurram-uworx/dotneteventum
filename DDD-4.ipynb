{
 "cells": [
  {
   "cell_type": "markdown",
   "metadata": {},
   "source": [
    "# 💡 Idiomatic Coding"
   ]
  },
  {
   "cell_type": "markdown",
   "metadata": {},
   "source": [
    "The essence of famous book \"Clean Code: A Handbook of Agile Software Craftsmanship by Robert C. Martin\"\n",
    "- Code is read far more often than it is written—so write it to be readable, maintainable, and expressive"
   ]
  },
  {
   "cell_type": "markdown",
   "metadata": {},
   "source": [
    "<img src=images/the-curly-languages.jpg height=700>\n",
    "<img src=images/crappy-abstract.webp height=700>"
   ]
  },
  {
   "cell_type": "code",
   "execution_count": null,
   "metadata": {
    "polyglot_notebook": {
     "kernelName": "csharp"
    }
   },
   "outputs": [],
   "source": [
    "// Java code by a C# developer\n",
    "public class Main {\n",
    "    public static void main(String[] args) {\n",
    "        List<String> list = new ArrayList<String>();\n",
    "        for (int i = 0; i < list.size(); i++) {\n",
    "            String item = list.get(i);\n",
    "            System.out.println(item);\n",
    "        }\n",
    "    }\n",
    "}\n",
    "\n",
    "for (String item : list) {\n",
    "    System.out.println(item);\n",
    "}"
   ]
  },
  {
   "cell_type": "code",
   "execution_count": null,
   "metadata": {
    "polyglot_notebook": {
     "kernelName": "pythonkernel"
    }
   },
   "outputs": [],
   "source": [
    "# Python code by a Java developer\n",
    "names = [\"Alice\", \"Bob\", \"Charlie\"]\n",
    "i = 0\n",
    "while i < len(names):\n",
    "    print(names[i])\n",
    "    i += 1\n",
    "\n",
    "for name in names:\n",
    "    print(name)"
   ]
  },
  {
   "cell_type": "code",
   "execution_count": null,
   "metadata": {
    "polyglot_notebook": {
     "kernelName": "pythonkernel"
    }
   },
   "outputs": [],
   "source": [
    "# C# style in Python\n",
    "def GetUserName():\n",
    "    return \"Alice\"\n",
    "\n",
    "print(GetUserName())\n",
    "\n",
    "def get_user_name():\n",
    "    return \"Alice\""
   ]
  },
  {
   "cell_type": "markdown",
   "metadata": {},
   "source": [
    "It’s the difference between just making something work and writing it in a way that’s clean and consistent with the community’s expectations\n",
    "\n",
    "\n",
    "- Feels natural and standard to experienced developers\n",
    "- Avoids unnecessary complexity or \"clever tricks\"\n",
    "- Leverages built-in features and libraries appropriately\n",
    "- Follows naming, formatting, and architectural conventions"
   ]
  },
  {
   "cell_type": "code",
   "execution_count": null,
   "metadata": {
    "polyglot_notebook": {
     "kernelName": "fsharp"
    }
   },
   "outputs": [],
   "source": [
    "// Go"
   ]
  },
  {
   "cell_type": "code",
   "execution_count": null,
   "metadata": {
    "polyglot_notebook": {
     "kernelName": "fsharp"
    }
   },
   "outputs": [],
   "source": [
    "// Training Project Example"
   ]
  },
  {
   "cell_type": "markdown",
   "metadata": {},
   "source": [
    "- In C#, using LINQ for collections is idiomatic\n",
    "- In Python, using list comprehensions is idiomatic\n",
    "- In Go, error handling with if err != nil is idiomatic\n",
    "- Having bin directory and not cmd"
   ]
  },
  {
   "cell_type": "markdown",
   "metadata": {},
   "source": [
    "## BBoM - Big Ball of Mud"
   ]
  },
  {
   "cell_type": "markdown",
   "metadata": {},
   "source": [
    "- Lacks clear structure or consistent architecture\n",
    "- Is hard to maintain or reason about\n",
    "- Has grown chaotically over time with little discipline"
   ]
  },
  {
   "cell_type": "markdown",
   "metadata": {},
   "source": [
    "<img src=images/big-ball-of-mud.webp>\n",
    "\n",
    "- https://deviq.com/antipatterns/big-ball-of-mud\n",
    "- https://blog.codinghorror.com/the-big-ball-of-mud-and-other-architectural-disasters"
   ]
  },
  {
   "cell_type": "markdown",
   "metadata": {},
   "source": [
    "__Reasons__\n",
    "- Lack of clear architecture/design: Developers jump into implementation without planning structure or boundaries\n",
    "- Inconsistent coding practices: No enforced standards lead to divergent styles and approaches\n",
    "- Tight coupling: Components depend heavily on each other, making changes risky and difficult\n",
    "- Lack of encapsulation: Data and behavior are not properly hidden or modularized\n",
    "- Feature creep: New functionality is continuously added without refactoring or proper integration\n",
    "- Poor separation of concerns: Mixing business logic, UI, and data access leads to bloated classes and methods\n",
    "- Technical debt accumulation: Short-term hacks and workarounds pile up over time\n",
    "- No refactoring culture: Code isn’t improved or cleaned up regularly\n",
    "- Weak ownership and accountability: No clear responsibility for maintaining quality and consistency\n",
    "- Pressure to deliver fast: Deadlines prioritized over good design and sustainable practices\n",
    "- High team turnover: New developers struggle with understanding existing code and may introduce further disorganization\n",
    "- Lack of tests: Without tests, developers are hesitant to refactor or restructure the code safely"
   ]
  },
  {
   "cell_type": "markdown",
   "metadata": {},
   "source": [
    "__Lack of Idiommatic Coding__\n",
    "1. Inconsistent styles and patterns\n",
    "Different parts of the codebase feel different\n",
    "2. Harder onboarding\n",
    "New developers familiar with the language can't rely on expected idioms or conventions\n",
    "3. Poor readability\n",
    "It takes more effort to understand what’s going on because the code doesn’t \"look right\"\n",
    "4. Code duplication\n",
    "Idiomatic features (like LINQ, stream APIs, comprehensions) aren’t used, leading to repeated logic\n",
    "5. Weaker tooling support\n",
    "Tools like linters, formatters, and analyzers are less effective when code defies idioms"
   ]
  },
  {
   "cell_type": "markdown",
   "metadata": {},
   "source": [
    "<img src=images/facade-pattern.webp>"
   ]
  },
  {
   "cell_type": "markdown",
   "metadata": {},
   "source": [
    "## Idiomatic C#"
   ]
  },
  {
   "cell_type": "code",
   "execution_count": null,
   "metadata": {
    "polyglot_notebook": {
     "kernelName": "csharp"
    }
   },
   "outputs": [],
   "source": [
    "string inputName = null;\n",
    "string name;\n",
    "if (inputName != null)\n",
    "    name = inputName;\n",
    "else\n",
    "    name = \"default\";\n",
    "\n",
    "\n",
    "var numbers = new List<int>();\n",
    "var result1 = new List<int>();\n",
    "foreach (var number in numbers)\n",
    "{\n",
    "    if (number % 2 == 0)\n",
    "        result1.Add(number * 2);\n",
    "}\n",
    "\n",
    "\n",
    "record Item();\n",
    "record Order(List<Item> Items);\n",
    "var orders = new List<Order>();\n",
    "var result2 = new List<Item>();\n",
    "foreach (var order in orders)\n",
    "{\n",
    "    foreach (var item in order.Items)\n",
    "    {\n",
    "        result2.Add(item);\n",
    "    }\n",
    "}"
   ]
  },
  {
   "cell_type": "code",
   "execution_count": null,
   "metadata": {
    "polyglot_notebook": {
     "kernelName": "csharp"
    }
   },
   "outputs": [],
   "source": [
    "// Idiomatic\n",
    "\n",
    "string inputName = null;\n",
    "var name = inputName ?? \"default\";\n",
    "\n",
    "var numbers = new List<int>();\n",
    "var result1 = numbers\n",
    "   .Where(n => n % 2 == 0)\n",
    "   .Select(n => n * 2)\n",
    "   .ToList();\n",
    "\n",
    "record Item();\n",
    "record Order(List<Item> Items);\n",
    "var orders = new List<Order>();\n",
    "var result2 = orders\n",
    "   .SelectMany(o => o.Items)\n",
    "   .ToList();"
   ]
  },
  {
   "cell_type": "code",
   "execution_count": null,
   "metadata": {
    "polyglot_notebook": {
     "kernelName": "csharp"
    }
   },
   "outputs": [],
   "source": [
    "record Address(string City);\n",
    "record Person(string Name, Address Address);\n",
    "var person = new Person(\"Alice\", new Address(\"Wonderland\"));\n",
    "\n",
    "if (person != null && person.Address != null && person.Address.City != null)\n",
    "    Console.WriteLine(person.Address.City);\n",
    "\n",
    "//Idiomatic\n",
    "if (person is { Address.City: not null } cityHolder)\n",
    " Console.WriteLine(cityHolder.Address.City);"
   ]
  },
  {
   "cell_type": "markdown",
   "metadata": {},
   "source": [
    "# 🧩 Domain Driven Design"
   ]
  },
  {
   "cell_type": "markdown",
   "metadata": {},
   "source": [
    "<img src=images/ops-i-did-it-again.webp width=800>"
   ]
  },
  {
   "cell_type": "markdown",
   "metadata": {},
   "source": [
    "- Domain-Driven Design (DDD) uniquely solves the problem of deep alignment between complex business logic and software design—something other approaches often only partially address or miss entirely\n",
    "- Other methodologies (e.g., MVC, Clean Architecture, Service-Oriented Architecture) might offer technical or structural guidance, but DDD uniquely targets business complexity and the collaborative modeling process needed to handle it effectively\n",
    "\n",
    "__Shift your mindset__\n",
    "- From \"data-first\" to \"behavior-first\": Stop thinking in terms of tables and think in terms of what the domain does\n",
    "- Focus on modeling real-world behavior, not just storing data"
   ]
  },
  {
   "cell_type": "markdown",
   "metadata": {},
   "source": [
    "## 🗨️ Ubiquitous Language"
   ]
  },
  {
   "cell_type": "markdown",
   "metadata": {},
   "source": [
    "<img src=images/naming-is-hard.jpg>"
   ]
  },
  {
   "cell_type": "markdown",
   "metadata": {},
   "source": [
    "- Used by both developers and domain experts (non-technical stakeholders)\n",
    "- Built around the domain model\n",
    "- Used in code, documentation, and conversations\n",
    "\n",
    "It's not just about naming variables better — it's about aligning the whole team's understanding of the problem space through consistent, domain-aligned vocabulary"
   ]
  },
  {
   "cell_type": "code",
   "execution_count": null,
   "metadata": {
    "polyglot_notebook": {
     "kernelName": "csharp"
    }
   },
   "outputs": [],
   "source": [
    "// Rename CustomerService → CustomerRegistration, if that's the actual purpose\n",
    "\n",
    "record OrderDTO();\n",
    "class DataManager\n",
    "{\n",
    "    public void DoProcess(OrderDTO order) { /* */ } //Bad\n",
    "}\n",
    "\n",
    "record Order();\n",
    "class OrderProcessor\n",
    "{\n",
    "    public void Place(Order order) { /* */ } // Good\n",
    "}"
   ]
  },
  {
   "cell_type": "markdown",
   "metadata": {},
   "source": [
    "__Resources__\n",
    "- 📺 https://www.youtube.com/watch?v=KtRLIzG5c54 The Language of Actors - Vaughn Vernon\n",
    "- 📺 https://www.youtube.com/watch?v=xyuKx5HsGK8 Language in Context - Eric Evans - DDD Europe 2019"
   ]
  },
  {
   "cell_type": "markdown",
   "metadata": {},
   "source": [
    "## 🚧 Bounded Context"
   ]
  },
  {
   "cell_type": "markdown",
   "metadata": {},
   "source": [
    "A Bounded Context is a conceptual boundary where a domain model is applicable. It provides a context for the Ubiquitous Language that is spoken by the team and expressed in its carefully designed software model"
   ]
  },
  {
   "cell_type": "markdown",
   "metadata": {},
   "source": [
    "## 🛠️ Tactical Modeling"
   ]
  },
  {
   "cell_type": "markdown",
   "metadata": {},
   "source": [
    "We model tactically inside a Bounded Context using DDD’s building block patterns. One of the most important patterns of tactical design is Aggregate\n",
    "\n",
    "- An Aggregate is composed of either a single Entity or a cluster of Entities and Value Objects that must remain transactionally consistent throughout the Aggregate’s lifetime\n",
    "- An instance of an Aggregate is persisted using its Repository and later searched for within and retrieved from it"
   ]
  },
  {
   "cell_type": "markdown",
   "metadata": {},
   "source": [
    "<img src=images/evan-4-aggregates.png>"
   ]
  },
  {
   "cell_type": "markdown",
   "metadata": {},
   "source": [
    "__Aggregate Roles__\n",
    "\n",
    "1. Transactional Consistency Boundary\n",
    "- All changes within an Aggregate are guaranteed to be consistent at the end of a transaction.\n",
    "- This helps enforce business rules and invariants reliably.\n",
    "2. Encapsulation of Domain Logic\n",
    "- Aggregates encapsulate the domain rules for a set of related objects.\n",
    "- They expose only meaningful operations and enforce constraints internally.\n",
    "3. Controlled Access\n",
    "- Only the Aggregate Root is accessible from outside; internal entities and value objects are not directly modified from the outside.\n",
    "- This prevents invalid states and encourages clean API design.\n",
    "4. Persistence Boundary\n",
    "- Aggregates are persisted and loaded through repositories.\n",
    "- Repositories deal only with the root, not internal entities.\n",
    "5. Autonomous within a Bounded Context\n",
    "- Aggregates are defined and operate within the boundaries of a single Bounded Context.\n",
    "- Cross-aggregate or cross-context consistency is handled through eventual consistency mechanisms (e.g., domain events)"
   ]
  },
  {
   "cell_type": "code",
   "execution_count": 1,
   "metadata": {
    "polyglot_notebook": {
     "kernelName": "csharp"
    }
   },
   "outputs": [],
   "source": [
    "// Value Types\n",
    "record Money(decimal Amount, string Currency);\n",
    "record ProductId(Guid Value);\n",
    "record OrderId(Guid Value);\n",
    "\n",
    "// Value Object inside Order\n",
    "class OrderItem\n",
    "{\n",
    "    public ProductId ProductId { get; }\n",
    "    public Money UnitPrice { get; }\n",
    "    public int Quantity { get; }\n",
    "    public Money Total => new(UnitPrice.Amount * Quantity, UnitPrice.Currency);\n",
    "\n",
    "    public OrderItem(ProductId productId, Money unitPrice, int quantity) =>\n",
    "        (ProductId, UnitPrice, Quantity) = (productId, unitPrice, quantity);\n",
    "}\n",
    "\n",
    "// Entity inside ProductCatalog\n",
    "class Product\n",
    "{\n",
    "    public ProductId Id { get; }\n",
    "    public string Name { get; }\n",
    "    public Money Price { get; private set; }\n",
    "\n",
    "    public Product(ProductId id, string name, Money price) =>\n",
    "        (Id, Name, Price) = (id, name, price);\n",
    "\n",
    "    public void UpdatePrice(Money newPrice) => Price = newPrice;\n",
    "}\n",
    "\n",
    "// Aggregate Root for Product Catalog\n",
    "class ProductCatalog\n",
    "{\n",
    "    private readonly List<Product> _products = new();\n",
    "\n",
    "    public void AddProduct(Product product) => _products.Add(product);\n",
    "    public Product? FindById(ProductId id) => _products.FirstOrDefault(p => p.Id == id);\n",
    "}\n",
    "\n",
    "// Aggregate Root for Order\n",
    "class Order\n",
    "{\n",
    "    public OrderId Id { get; }\n",
    "    public List<OrderItem> Items { get; } = new();\n",
    "    public Money Total => Items.Select(i => i.Total).Aggregate((a, b) => new Money(a.Amount + b.Amount, a.Currency));\n",
    "\n",
    "    public Order(OrderId id) => Id = id;\n",
    "\n",
    "    public void AddItem(Product product, int quantity)\n",
    "    {\n",
    "        var item = new OrderItem(product.Id, product.Price, quantity);\n",
    "        Items.Add(item);\n",
    "    }\n",
    "}"
   ]
  },
  {
   "cell_type": "code",
   "execution_count": 2,
   "metadata": {
    "polyglot_notebook": {
     "kernelName": "csharp"
    }
   },
   "outputs": [],
   "source": [
    "// Repository Interface for Order\n",
    "interface IOrderRepository\n",
    "{\n",
    "    Task<Order?> GetByIdAsync(OrderId id);\n",
    "    Task SaveAsync(Order order);\n",
    "}\n",
    "\n",
    "// Repository Interface for ProductCatalog\n",
    "interface IProductCatalogRepository\n",
    "{\n",
    "    Task<Product?> GetByIdAsync(ProductId id);\n",
    "    Task SaveAsync(Product product);\n",
    "}"
   ]
  },
  {
   "cell_type": "code",
   "execution_count": null,
   "metadata": {
    "polyglot_notebook": {
     "kernelName": "csharp"
    }
   },
   "outputs": [],
   "source": [
    "// Lets have some fun with Copilot 👈\n",
    "// Pull Business / Logic from Data Access Layer into Domain Layer\n",
    "// Push Business / Logic from Presentation Layer into Domain Layer"
   ]
  },
  {
   "cell_type": "markdown",
   "metadata": {},
   "source": [
    "- What about Validation ?\n",
    "- How to fail on Validation Failure, Exception or Return ?"
   ]
  },
  {
   "cell_type": "markdown",
   "metadata": {},
   "source": [
    "__Resources__\n",
    "- 📺 https://www.youtube.com/watch?v=TPctjavH_Zw Vaughn Vernon - Reactive DDD: Modeling Uncertainty"
   ]
  },
  {
   "cell_type": "markdown",
   "metadata": {},
   "source": [
    "## 📚 Resources"
   ]
  },
  {
   "cell_type": "markdown",
   "metadata": {},
   "source": [
    "- 📕 Book: \"Domain-Driven Design: Tackling Complexity in the Heart of Software\" by Eric Evans\n",
    "- 📙 Book: (more approachable): \"Implementing Domain-Driven Design\" by Vaughn Vernon\n",
    "- 📗 Book: (ChatGPT thinks its best for beginners) Patterns, Principles, and Practices of Domain-Driven Design by Scott Millett & Nick Tune\n",
    "- ✍️ Blog series: Jimmy Bogard (creator of MediatR)\n",
    "- ✍️ Blog series: Vladimir Khorikov\n",
    "- ✍️ Blog series: \"DDD w/ .NET\" series by Microsoft DevBlogs"
   ]
  },
  {
   "cell_type": "markdown",
   "metadata": {},
   "source": [
    "# 🚀 Distributed Systems - But Wait"
   ]
  },
  {
   "cell_type": "markdown",
   "metadata": {},
   "source": [
    "<img src=images/distributed-systems.png width=800>"
   ]
  },
  {
   "cell_type": "markdown",
   "metadata": {},
   "source": [
    "<img src=images/eventual-consistency.png width=800>"
   ]
  },
  {
   "cell_type": "markdown",
   "metadata": {},
   "source": [
    "<img src=images/cap-theorem.webp width=800>"
   ]
  }
 ],
 "metadata": {
  "kernelspec": {
   "display_name": ".NET (C#)",
   "language": "C#",
   "name": ".net-csharp"
  },
  "language_info": {
   "name": "polyglot-notebook"
  },
  "polyglot_notebook": {
   "kernelInfo": {
    "defaultKernelName": "csharp",
    "items": [
     {
      "aliases": [],
      "languageName": "csharp",
      "name": "csharp"
     },
     {
      "aliases": [],
      "languageName": "python",
      "name": "pythonkernel"
     }
    ]
   }
  }
 },
 "nbformat": 4,
 "nbformat_minor": 2
}
