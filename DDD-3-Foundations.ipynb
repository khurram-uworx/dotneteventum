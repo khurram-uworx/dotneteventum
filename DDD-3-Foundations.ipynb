{
 "cells": [
  {
   "cell_type": "markdown",
   "metadata": {},
   "source": [
    "# 🔀 Dependency Inversion Principle"
   ]
  },
  {
   "cell_type": "markdown",
   "metadata": {},
   "source": [
    "- https://en.wikipedia.org/wiki/Dependency_inversion_principle\n",
    "    - High-level modules should not import anything from low-level modules. Both should depend on abstractions (e.g., interfaces)\n",
    "    - Abstractions should not depend on details. Details (concrete implementations) should depend on abstractions"
   ]
  },
  {
   "cell_type": "markdown",
   "metadata": {},
   "source": [
    "# 🔀 Inversion of Control"
   ]
  },
  {
   "cell_type": "markdown",
   "metadata": {},
   "source": [
    "- https://en.wikipedia.org/wiki/Inversion_of_control\n",
    "- Callback, Schedular, Event Loops"
   ]
  },
  {
   "cell_type": "code",
   "execution_count": null,
   "metadata": {
    "polyglot_notebook": {
     "kernelName": "csharp"
    }
   },
   "outputs": [],
   "source": [
    "// we are user\n",
    "var framework = new CoolFramework()\n",
    "{\n",
    "    Configuration: new\n",
    "    {\n",
    "    },\n",
    "    OnInitialization: builder =>\n",
    "    {\n",
    "    }\n",
    "};\n",
    "\n",
    "framework.OnLoad += (s, e) => { /* you do something */ };\n",
    "framework.Step1 += (s, e) => { };       // hooks\n",
    "framework.OnFinish += (s, e) => { };\n",
    "framework.Initialize();\n",
    "framework.Start();"
   ]
  },
  {
   "cell_type": "code",
   "execution_count": null,
   "metadata": {
    "polyglot_notebook": {
     "kernelName": "csharp"
    }
   },
   "outputs": [],
   "source": [
    "// we are framework\n",
    "class MsiAssertions\n",
    "{\n",
    "    public EventHandler<..> OnMsiLoaded;\n",
    "    public EventHandler<..> OnDirectoryResolved;\n",
    "    public EventHandler<..> OnFilesResolved;\n",
    "\n",
    "    public EventHandler<..> OnDeleting;\n",
    "    public EventHandler<..> OnDeleted; // OnFinished\n",
    "\n",
    "    void Load(string file) { }\n",
    "\n",
    "    void Resolve() { }\n",
    "}"
   ]
  },
  {
   "cell_type": "markdown",
   "metadata": {},
   "source": [
    "# 🔀 Dependency Injection"
   ]
  },
  {
   "cell_type": "markdown",
   "metadata": {},
   "source": [
    "- https://en.wikipedia.org/wiki/Dependency_injection\n",
    "- Abstraction / Interfaces\n",
    "- Injection\n",
    "    - Constructor\n",
    "    - Method Injection and Setter Injection\n",
    "    - Interface Injection"
   ]
  },
  {
   "cell_type": "code",
   "execution_count": null,
   "metadata": {
    "polyglot_notebook": {
     "kernelName": "csharp"
    }
   },
   "outputs": [],
   "source": [
    "class FromServicesAttribute : Attribute { }\n",
    "interface IService {}\n",
    "\n",
    "// Method injection\n",
    "void ControllerAction(\n",
    "    [FromServices]\n",
    "    IService service)\n",
    "{\n",
    "    //service.Execute();\n",
    "}"
   ]
  },
  {
   "cell_type": "code",
   "execution_count": null,
   "metadata": {
    "polyglot_notebook": {
     "kernelName": "csharp"
    }
   },
   "outputs": [],
   "source": [
    "// Interface injection\n",
    "interface IWeapn { void Use();}\n",
    "interface IWeaponInjectable { void SetWeapen(IWeapn weapon); }\n",
    "\n",
    "// class Ken : IWeaponInjectable { }  // Street Fighter\n",
    "\n",
    "class Match\n",
    "{\n",
    "    public void EquipLeftPlayer(IWeaponInjectable player, IWeapn weapen) { }\n",
    "    public void EquipRightPlayer(IWeaponInjectable player, IWeapn weapen) { }\n",
    "    public void Start(int round) { }\n",
    "}"
   ]
  },
  {
   "cell_type": "markdown",
   "metadata": {},
   "source": [
    "- Principals\n",
    "    - DIP and IoC\n",
    "- Design Pattern\n",
    "    - DI\n",
    "- Framework\n",
    "    - IoC Containers"
   ]
  },
  {
   "cell_type": "markdown",
   "metadata": {},
   "source": [
    "- The SOLID principals"
   ]
  },
  {
   "cell_type": "markdown",
   "metadata": {},
   "source": [
    "# ➕ Entity Fields"
   ]
  },
  {
   "cell_type": "code",
   "execution_count": null,
   "metadata": {
    "polyglot_notebook": {
     "kernelName": "value"
    }
   },
   "outputs": [],
   "source": [
    "Account Number: 1000\n",
    "Account Title: Khurram              Temporal (additional info, change date, previous title)\n",
    "Account Balance: 600                Calculated\n",
    "\n",
    "\n",
    "Account Statement\n",
    "\n",
    "1/3     1000\n",
    "5/3     -500\n",
    "10/3    -300\n",
    "1/4     1000\n",
    "5/4     -500\n",
    "10/4    -300\n",
    "1/5     1000\n",
    "5/5     -500\n",
    "10/5    -300"
   ]
  },
  {
   "cell_type": "markdown",
   "metadata": {},
   "source": [
    "# 🚀 Domain Driven Design - But Wait"
   ]
  },
  {
   "cell_type": "markdown",
   "metadata": {},
   "source": [
    "<img src=images/evan-1-bounded-context.png>\n",
    "\n",
    "<img src=images/evan-2-context-mapping.png>\n",
    "\n",
    "<img src=images/evan-3-architecture.png>\n",
    "\n",
    "<img src=images/evan-4-aggregates.png>\n",
    "\n",
    "<img src=images/evan-5-domain-events.png>"
   ]
  },
  {
   "cell_type": "markdown",
   "metadata": {},
   "source": [
    "# ⚡ Mediator"
   ]
  },
  {
   "cell_type": "markdown",
   "metadata": {},
   "source": [
    "## Implementation using Dependency Injection"
   ]
  },
  {
   "cell_type": "code",
   "execution_count": null,
   "metadata": {
    "polyglot_notebook": {
     "kernelName": "csharp"
    }
   },
   "outputs": [],
   "source": [
    "#r \"nuget: Microsoft.Extensions.DependencyInjection\""
   ]
  },
  {
   "cell_type": "code",
   "execution_count": null,
   "metadata": {
    "polyglot_notebook": {
     "kernelName": "csharp"
    }
   },
   "outputs": [],
   "source": [
    "using System.Reflection;\n",
    "using System.Threading;\n",
    "using Microsoft.Extensions.DependencyInjection;\n",
    "\n",
    "interface IRequest<TResponse> // marker interface holding the response type\n",
    "{ }\n",
    "\n",
    "interface IRequestHandler<TRequest, TResponse> where TRequest : IRequest<TResponse>\n",
    "{\n",
    "    Task<TResponse> HandleAsync(TRequest request, CancellationToken token); // asynchronously process request giving a response\n",
    "}\n",
    "\n",
    "interface ISender\n",
    "{\n",
    "    // it has request handler signature; but from implementation its expected it will magically \"figure out\" the request handler\n",
    "    Task<TResponse> SendAsync<TResponse>(IRequest<TResponse> request, CancellationToken token = default);\n",
    "}\n",
    "\n",
    "class Sender(IServiceProvider provider) : ISender\n",
    "{\n",
    "    // we could either have mechanism here to register handlers or use DI container to resolve them\n",
    "    public Task<TResponse> SendAsync<TResponse>(IRequest<TResponse> request, CancellationToken token = default)\n",
    "    {   // we are using DI container to resolve them\n",
    "        var handlerType = typeof(IRequestHandler<,>).MakeGenericType(request.GetType(), typeof(TResponse));\n",
    "        dynamic handler = provider.GetService(handlerType);\n",
    "\n",
    "        return handler.Handle((dynamic)request, token);\n",
    "    }\n",
    "}\n",
    "\n",
    "static IServiceCollection AddMediator(this IServiceCollection services, Assembly assembly = null)\n",
    "{\n",
    "    assembly ??= Assembly.GetCallingAssembly();\n",
    "\n",
    "    var handlerTypeInterface = typeof(IRequestHandler<,>);\n",
    "    var handleTypes = assembly.GetTypes()\n",
    "        .Where(type => !type.IsAbstract && !type.IsInterface)\n",
    "        .SelectMany(type => type.GetInterfaces()\n",
    "            .Where(i => i.IsGenericType && i.GetGenericTypeDefinition() == handlerTypeInterface)\n",
    "            .Select(i => new { Interface = i, Implementation = type }));\n",
    "    \n",
    "    foreach(var handleType in handleTypes)\n",
    "        services.AddScoped(handleType.Interface, handleType.Implementation);\n",
    "    \n",
    "    return services;\n",
    "}"
   ]
  },
  {
   "cell_type": "markdown",
   "metadata": {},
   "source": [
    "## Vertical Slice Architecture"
   ]
  },
  {
   "cell_type": "code",
   "execution_count": null,
   "metadata": {
    "polyglot_notebook": {
     "kernelName": "csharp"
    }
   },
   "outputs": [],
   "source": [
    "static class GetTeams\n",
    "{\n",
    "    public record Query : IRequest<List<string>>;\n",
    "\n",
    "    public class Handler : IRequestHandler<Query, List<string>>\n",
    "    {\n",
    "        public Task<List<string>> HandleAsync(Query request, CancellationToken cancellationToken)\n",
    "        {\n",
    "            var teams = new List<string>\n",
    "            {\n",
    "                \"Flooid\", \"Juriba\", \"TAAS\", \"Khoji\", \"Admin\"\n",
    "            };\n",
    "\n",
    "            return Task.FromResult(teams);\n",
    "        }\n",
    "    }\n",
    "}"
   ]
  },
  {
   "cell_type": "code",
   "execution_count": null,
   "metadata": {
    "polyglot_notebook": {
     "kernelName": "csharp"
    }
   },
   "outputs": [],
   "source": [
    "static class MoveResource\n",
    "{\n",
    "    public record Command(string ResourceId, string FromTeam, string ToTeam) : IRequest<bool>;\n",
    "\n",
    "    public class Handler : IRequestHandler<Command, bool>\n",
    "    {\n",
    "        public Task<bool> HandleAsync(Command command, CancellationToken cancellationToken)\n",
    "        {   // Simulate resource move logic\n",
    "            var moved = !string.IsNullOrWhiteSpace(command.ResourceId) &&\n",
    "                !string.Equals(command.FromTeam, command.ToTeam, StringComparison.OrdinalIgnoreCase);\n",
    "\n",
    "            return Task.FromResult(moved);\n",
    "        }\n",
    "    }\n",
    "}"
   ]
  },
  {
   "cell_type": "code",
   "execution_count": null,
   "metadata": {
    "polyglot_notebook": {
     "kernelName": "csharp"
    }
   },
   "outputs": [],
   "source": [
    "[ApiController]\n",
    "[Route(\"api/[controller]\")]\n",
    "public class TeamsController(ISender sender) : ControllerBase\n",
    "{\n",
    "    [HttpGet]\n",
    "    public async Task<IActionResult> GetTeams(CancellationToken cancellationToken)\n",
    "    {\n",
    "        var teams = await sender.SendAsync(new GetTeams.Query(), cancellationToken);\n",
    "        return Ok(teams);\n",
    "    }\n",
    "\n",
    "    [HttpPost(\"{resourceId}/move\")]\n",
    "    public async Task<IActionResult> MoveResource(string resourceId, [FromBody] MoveResource.Command command, CancellationToken cancellationToken)\n",
    "    {\n",
    "        if (resourceId != command.ResourceId) return BadRequest(\"Resource ID mismatch.\");\n",
    "\n",
    "        var moved = await sender.SendAsync(command, cancellationToken);\n",
    "        return moved ? Ok() : NotFound(\"Resource not found or already in the target team.\");\n",
    "    }\n",
    "}"
   ]
  }
 ],
 "metadata": {
  "kernelspec": {
   "display_name": ".NET (C#)",
   "language": "C#",
   "name": ".net-csharp"
  },
  "language_info": {
   "name": "polyglot-notebook"
  },
  "polyglot_notebook": {
   "kernelInfo": {
    "defaultKernelName": "csharp",
    "items": [
     {
      "aliases": [],
      "languageName": "csharp",
      "name": "csharp"
     },
     {
      "aliases": [],
      "languageName": "python",
      "name": "pythonkernel"
     }
    ]
   }
  }
 },
 "nbformat": 4,
 "nbformat_minor": 2
}
